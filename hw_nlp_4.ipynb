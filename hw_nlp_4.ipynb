{
  "nbformat": 4,
  "nbformat_minor": 0,
  "metadata": {
    "colab": {
      "name": "hw_nlp_4.ipynb",
      "provenance": [],
      "collapsed_sections": []
    },
    "kernelspec": {
      "name": "python3",
      "display_name": "Python 3"
    },
    "language_info": {
      "name": "python"
    },
    "widgets": {
      "application/vnd.jupyter.widget-state+json": {
        "c32ce49d9f384cdf84b95a21611d0549": {
          "model_module": "@jupyter-widgets/controls",
          "model_name": "HBoxModel",
          "model_module_version": "1.5.0",
          "state": {
            "_dom_classes": [],
            "_model_module": "@jupyter-widgets/controls",
            "_model_module_version": "1.5.0",
            "_model_name": "HBoxModel",
            "_view_count": null,
            "_view_module": "@jupyter-widgets/controls",
            "_view_module_version": "1.5.0",
            "_view_name": "HBoxView",
            "box_style": "",
            "children": [
              "IPY_MODEL_f03e74f4ad58432ead46ea0f2882e2e4",
              "IPY_MODEL_6303cbcc19ba42f1bec2384fbd3950f8",
              "IPY_MODEL_2a64134be750485b8c82fbaf649ae7d3"
            ],
            "layout": "IPY_MODEL_fb94c93b893242e684c865df34d7c18c"
          }
        },
        "f03e74f4ad58432ead46ea0f2882e2e4": {
          "model_module": "@jupyter-widgets/controls",
          "model_name": "HTMLModel",
          "model_module_version": "1.5.0",
          "state": {
            "_dom_classes": [],
            "_model_module": "@jupyter-widgets/controls",
            "_model_module_version": "1.5.0",
            "_model_name": "HTMLModel",
            "_view_count": null,
            "_view_module": "@jupyter-widgets/controls",
            "_view_module_version": "1.5.0",
            "_view_name": "HTMLView",
            "description": "",
            "description_tooltip": null,
            "layout": "IPY_MODEL_30d5a4b1354842cca377032b20ec4221",
            "placeholder": "​",
            "style": "IPY_MODEL_7b87eadcf6ff4ce796115d6986c701ca",
            "value": "100%"
          }
        },
        "6303cbcc19ba42f1bec2384fbd3950f8": {
          "model_module": "@jupyter-widgets/controls",
          "model_name": "FloatProgressModel",
          "model_module_version": "1.5.0",
          "state": {
            "_dom_classes": [],
            "_model_module": "@jupyter-widgets/controls",
            "_model_module_version": "1.5.0",
            "_model_name": "FloatProgressModel",
            "_view_count": null,
            "_view_module": "@jupyter-widgets/controls",
            "_view_module_version": "1.5.0",
            "_view_name": "ProgressView",
            "bar_style": "success",
            "description": "",
            "description_tooltip": null,
            "layout": "IPY_MODEL_f391753aa6f442848b83feb869e30613",
            "max": 226834,
            "min": 0,
            "orientation": "horizontal",
            "style": "IPY_MODEL_3b0be532fcc14752898c569e64e9bc4f",
            "value": 226834
          }
        },
        "2a64134be750485b8c82fbaf649ae7d3": {
          "model_module": "@jupyter-widgets/controls",
          "model_name": "HTMLModel",
          "model_module_version": "1.5.0",
          "state": {
            "_dom_classes": [],
            "_model_module": "@jupyter-widgets/controls",
            "_model_module_version": "1.5.0",
            "_model_name": "HTMLModel",
            "_view_count": null,
            "_view_module": "@jupyter-widgets/controls",
            "_view_module_version": "1.5.0",
            "_view_name": "HTMLView",
            "description": "",
            "description_tooltip": null,
            "layout": "IPY_MODEL_9ccdef3fec3b4fdd9662bed8dc29cf59",
            "placeholder": "​",
            "style": "IPY_MODEL_8ff9facebd974826afb842ef349454fd",
            "value": " 226834/226834 [12:17&lt;00:00, 328.25it/s]"
          }
        },
        "fb94c93b893242e684c865df34d7c18c": {
          "model_module": "@jupyter-widgets/base",
          "model_name": "LayoutModel",
          "model_module_version": "1.2.0",
          "state": {
            "_model_module": "@jupyter-widgets/base",
            "_model_module_version": "1.2.0",
            "_model_name": "LayoutModel",
            "_view_count": null,
            "_view_module": "@jupyter-widgets/base",
            "_view_module_version": "1.2.0",
            "_view_name": "LayoutView",
            "align_content": null,
            "align_items": null,
            "align_self": null,
            "border": null,
            "bottom": null,
            "display": null,
            "flex": null,
            "flex_flow": null,
            "grid_area": null,
            "grid_auto_columns": null,
            "grid_auto_flow": null,
            "grid_auto_rows": null,
            "grid_column": null,
            "grid_gap": null,
            "grid_row": null,
            "grid_template_areas": null,
            "grid_template_columns": null,
            "grid_template_rows": null,
            "height": null,
            "justify_content": null,
            "justify_items": null,
            "left": null,
            "margin": null,
            "max_height": null,
            "max_width": null,
            "min_height": null,
            "min_width": null,
            "object_fit": null,
            "object_position": null,
            "order": null,
            "overflow": null,
            "overflow_x": null,
            "overflow_y": null,
            "padding": null,
            "right": null,
            "top": null,
            "visibility": null,
            "width": null
          }
        },
        "30d5a4b1354842cca377032b20ec4221": {
          "model_module": "@jupyter-widgets/base",
          "model_name": "LayoutModel",
          "model_module_version": "1.2.0",
          "state": {
            "_model_module": "@jupyter-widgets/base",
            "_model_module_version": "1.2.0",
            "_model_name": "LayoutModel",
            "_view_count": null,
            "_view_module": "@jupyter-widgets/base",
            "_view_module_version": "1.2.0",
            "_view_name": "LayoutView",
            "align_content": null,
            "align_items": null,
            "align_self": null,
            "border": null,
            "bottom": null,
            "display": null,
            "flex": null,
            "flex_flow": null,
            "grid_area": null,
            "grid_auto_columns": null,
            "grid_auto_flow": null,
            "grid_auto_rows": null,
            "grid_column": null,
            "grid_gap": null,
            "grid_row": null,
            "grid_template_areas": null,
            "grid_template_columns": null,
            "grid_template_rows": null,
            "height": null,
            "justify_content": null,
            "justify_items": null,
            "left": null,
            "margin": null,
            "max_height": null,
            "max_width": null,
            "min_height": null,
            "min_width": null,
            "object_fit": null,
            "object_position": null,
            "order": null,
            "overflow": null,
            "overflow_x": null,
            "overflow_y": null,
            "padding": null,
            "right": null,
            "top": null,
            "visibility": null,
            "width": null
          }
        },
        "7b87eadcf6ff4ce796115d6986c701ca": {
          "model_module": "@jupyter-widgets/controls",
          "model_name": "DescriptionStyleModel",
          "model_module_version": "1.5.0",
          "state": {
            "_model_module": "@jupyter-widgets/controls",
            "_model_module_version": "1.5.0",
            "_model_name": "DescriptionStyleModel",
            "_view_count": null,
            "_view_module": "@jupyter-widgets/base",
            "_view_module_version": "1.2.0",
            "_view_name": "StyleView",
            "description_width": ""
          }
        },
        "f391753aa6f442848b83feb869e30613": {
          "model_module": "@jupyter-widgets/base",
          "model_name": "LayoutModel",
          "model_module_version": "1.2.0",
          "state": {
            "_model_module": "@jupyter-widgets/base",
            "_model_module_version": "1.2.0",
            "_model_name": "LayoutModel",
            "_view_count": null,
            "_view_module": "@jupyter-widgets/base",
            "_view_module_version": "1.2.0",
            "_view_name": "LayoutView",
            "align_content": null,
            "align_items": null,
            "align_self": null,
            "border": null,
            "bottom": null,
            "display": null,
            "flex": null,
            "flex_flow": null,
            "grid_area": null,
            "grid_auto_columns": null,
            "grid_auto_flow": null,
            "grid_auto_rows": null,
            "grid_column": null,
            "grid_gap": null,
            "grid_row": null,
            "grid_template_areas": null,
            "grid_template_columns": null,
            "grid_template_rows": null,
            "height": null,
            "justify_content": null,
            "justify_items": null,
            "left": null,
            "margin": null,
            "max_height": null,
            "max_width": null,
            "min_height": null,
            "min_width": null,
            "object_fit": null,
            "object_position": null,
            "order": null,
            "overflow": null,
            "overflow_x": null,
            "overflow_y": null,
            "padding": null,
            "right": null,
            "top": null,
            "visibility": null,
            "width": null
          }
        },
        "3b0be532fcc14752898c569e64e9bc4f": {
          "model_module": "@jupyter-widgets/controls",
          "model_name": "ProgressStyleModel",
          "model_module_version": "1.5.0",
          "state": {
            "_model_module": "@jupyter-widgets/controls",
            "_model_module_version": "1.5.0",
            "_model_name": "ProgressStyleModel",
            "_view_count": null,
            "_view_module": "@jupyter-widgets/base",
            "_view_module_version": "1.2.0",
            "_view_name": "StyleView",
            "bar_color": null,
            "description_width": ""
          }
        },
        "9ccdef3fec3b4fdd9662bed8dc29cf59": {
          "model_module": "@jupyter-widgets/base",
          "model_name": "LayoutModel",
          "model_module_version": "1.2.0",
          "state": {
            "_model_module": "@jupyter-widgets/base",
            "_model_module_version": "1.2.0",
            "_model_name": "LayoutModel",
            "_view_count": null,
            "_view_module": "@jupyter-widgets/base",
            "_view_module_version": "1.2.0",
            "_view_name": "LayoutView",
            "align_content": null,
            "align_items": null,
            "align_self": null,
            "border": null,
            "bottom": null,
            "display": null,
            "flex": null,
            "flex_flow": null,
            "grid_area": null,
            "grid_auto_columns": null,
            "grid_auto_flow": null,
            "grid_auto_rows": null,
            "grid_column": null,
            "grid_gap": null,
            "grid_row": null,
            "grid_template_areas": null,
            "grid_template_columns": null,
            "grid_template_rows": null,
            "height": null,
            "justify_content": null,
            "justify_items": null,
            "left": null,
            "margin": null,
            "max_height": null,
            "max_width": null,
            "min_height": null,
            "min_width": null,
            "object_fit": null,
            "object_position": null,
            "order": null,
            "overflow": null,
            "overflow_x": null,
            "overflow_y": null,
            "padding": null,
            "right": null,
            "top": null,
            "visibility": null,
            "width": null
          }
        },
        "8ff9facebd974826afb842ef349454fd": {
          "model_module": "@jupyter-widgets/controls",
          "model_name": "DescriptionStyleModel",
          "model_module_version": "1.5.0",
          "state": {
            "_model_module": "@jupyter-widgets/controls",
            "_model_module_version": "1.5.0",
            "_model_name": "DescriptionStyleModel",
            "_view_count": null,
            "_view_module": "@jupyter-widgets/base",
            "_view_module_version": "1.2.0",
            "_view_name": "StyleView",
            "description_width": ""
          }
        },
        "2d179c4d9e72460783f4e991a64e02a3": {
          "model_module": "@jupyter-widgets/controls",
          "model_name": "HBoxModel",
          "model_module_version": "1.5.0",
          "state": {
            "_dom_classes": [],
            "_model_module": "@jupyter-widgets/controls",
            "_model_module_version": "1.5.0",
            "_model_name": "HBoxModel",
            "_view_count": null,
            "_view_module": "@jupyter-widgets/controls",
            "_view_module_version": "1.5.0",
            "_view_name": "HBoxView",
            "box_style": "",
            "children": [
              "IPY_MODEL_98b4a6aba28d4cd08595810069e0b842",
              "IPY_MODEL_3b6c32802cc743d8a4fa39e0b2fbd3a0",
              "IPY_MODEL_7e70bf0f3c8d4822b806b5257bdf6981"
            ],
            "layout": "IPY_MODEL_2833643c2a3f4efab68b558c30166bd0"
          }
        },
        "98b4a6aba28d4cd08595810069e0b842": {
          "model_module": "@jupyter-widgets/controls",
          "model_name": "HTMLModel",
          "model_module_version": "1.5.0",
          "state": {
            "_dom_classes": [],
            "_model_module": "@jupyter-widgets/controls",
            "_model_module_version": "1.5.0",
            "_model_name": "HTMLModel",
            "_view_count": null,
            "_view_module": "@jupyter-widgets/controls",
            "_view_module_version": "1.5.0",
            "_view_name": "HTMLView",
            "description": "",
            "description_tooltip": null,
            "layout": "IPY_MODEL_84b5f0c5dcc84f998fd24365e4a33ff2",
            "placeholder": "​",
            "style": "IPY_MODEL_431b38847b71480aaf62b6eb69803ff8",
            "value": "100%"
          }
        },
        "3b6c32802cc743d8a4fa39e0b2fbd3a0": {
          "model_module": "@jupyter-widgets/controls",
          "model_name": "FloatProgressModel",
          "model_module_version": "1.5.0",
          "state": {
            "_dom_classes": [],
            "_model_module": "@jupyter-widgets/controls",
            "_model_module_version": "1.5.0",
            "_model_name": "FloatProgressModel",
            "_view_count": null,
            "_view_module": "@jupyter-widgets/controls",
            "_view_module_version": "1.5.0",
            "_view_name": "ProgressView",
            "bar_style": "success",
            "description": "",
            "description_tooltip": null,
            "layout": "IPY_MODEL_0f1d4a9f9f194c80a822c44077ed56d3",
            "max": 7,
            "min": 0,
            "orientation": "horizontal",
            "style": "IPY_MODEL_6953c4a984aa42e3815f981d7fad6c65",
            "value": 7
          }
        },
        "7e70bf0f3c8d4822b806b5257bdf6981": {
          "model_module": "@jupyter-widgets/controls",
          "model_name": "HTMLModel",
          "model_module_version": "1.5.0",
          "state": {
            "_dom_classes": [],
            "_model_module": "@jupyter-widgets/controls",
            "_model_module_version": "1.5.0",
            "_model_name": "HTMLModel",
            "_view_count": null,
            "_view_module": "@jupyter-widgets/controls",
            "_view_module_version": "1.5.0",
            "_view_name": "HTMLView",
            "description": "",
            "description_tooltip": null,
            "layout": "IPY_MODEL_d376014470ce445595ecc6ac6a34a739",
            "placeholder": "​",
            "style": "IPY_MODEL_797d763bd7f3487da1161779bfb7b7e6",
            "value": " 7/7 [31:47&lt;00:00, 357.69s/it]"
          }
        },
        "2833643c2a3f4efab68b558c30166bd0": {
          "model_module": "@jupyter-widgets/base",
          "model_name": "LayoutModel",
          "model_module_version": "1.2.0",
          "state": {
            "_model_module": "@jupyter-widgets/base",
            "_model_module_version": "1.2.0",
            "_model_name": "LayoutModel",
            "_view_count": null,
            "_view_module": "@jupyter-widgets/base",
            "_view_module_version": "1.2.0",
            "_view_name": "LayoutView",
            "align_content": null,
            "align_items": null,
            "align_self": null,
            "border": null,
            "bottom": null,
            "display": null,
            "flex": null,
            "flex_flow": null,
            "grid_area": null,
            "grid_auto_columns": null,
            "grid_auto_flow": null,
            "grid_auto_rows": null,
            "grid_column": null,
            "grid_gap": null,
            "grid_row": null,
            "grid_template_areas": null,
            "grid_template_columns": null,
            "grid_template_rows": null,
            "height": null,
            "justify_content": null,
            "justify_items": null,
            "left": null,
            "margin": null,
            "max_height": null,
            "max_width": null,
            "min_height": null,
            "min_width": null,
            "object_fit": null,
            "object_position": null,
            "order": null,
            "overflow": null,
            "overflow_x": null,
            "overflow_y": null,
            "padding": null,
            "right": null,
            "top": null,
            "visibility": null,
            "width": null
          }
        },
        "84b5f0c5dcc84f998fd24365e4a33ff2": {
          "model_module": "@jupyter-widgets/base",
          "model_name": "LayoutModel",
          "model_module_version": "1.2.0",
          "state": {
            "_model_module": "@jupyter-widgets/base",
            "_model_module_version": "1.2.0",
            "_model_name": "LayoutModel",
            "_view_count": null,
            "_view_module": "@jupyter-widgets/base",
            "_view_module_version": "1.2.0",
            "_view_name": "LayoutView",
            "align_content": null,
            "align_items": null,
            "align_self": null,
            "border": null,
            "bottom": null,
            "display": null,
            "flex": null,
            "flex_flow": null,
            "grid_area": null,
            "grid_auto_columns": null,
            "grid_auto_flow": null,
            "grid_auto_rows": null,
            "grid_column": null,
            "grid_gap": null,
            "grid_row": null,
            "grid_template_areas": null,
            "grid_template_columns": null,
            "grid_template_rows": null,
            "height": null,
            "justify_content": null,
            "justify_items": null,
            "left": null,
            "margin": null,
            "max_height": null,
            "max_width": null,
            "min_height": null,
            "min_width": null,
            "object_fit": null,
            "object_position": null,
            "order": null,
            "overflow": null,
            "overflow_x": null,
            "overflow_y": null,
            "padding": null,
            "right": null,
            "top": null,
            "visibility": null,
            "width": null
          }
        },
        "431b38847b71480aaf62b6eb69803ff8": {
          "model_module": "@jupyter-widgets/controls",
          "model_name": "DescriptionStyleModel",
          "model_module_version": "1.5.0",
          "state": {
            "_model_module": "@jupyter-widgets/controls",
            "_model_module_version": "1.5.0",
            "_model_name": "DescriptionStyleModel",
            "_view_count": null,
            "_view_module": "@jupyter-widgets/base",
            "_view_module_version": "1.2.0",
            "_view_name": "StyleView",
            "description_width": ""
          }
        },
        "0f1d4a9f9f194c80a822c44077ed56d3": {
          "model_module": "@jupyter-widgets/base",
          "model_name": "LayoutModel",
          "model_module_version": "1.2.0",
          "state": {
            "_model_module": "@jupyter-widgets/base",
            "_model_module_version": "1.2.0",
            "_model_name": "LayoutModel",
            "_view_count": null,
            "_view_module": "@jupyter-widgets/base",
            "_view_module_version": "1.2.0",
            "_view_name": "LayoutView",
            "align_content": null,
            "align_items": null,
            "align_self": null,
            "border": null,
            "bottom": null,
            "display": null,
            "flex": null,
            "flex_flow": null,
            "grid_area": null,
            "grid_auto_columns": null,
            "grid_auto_flow": null,
            "grid_auto_rows": null,
            "grid_column": null,
            "grid_gap": null,
            "grid_row": null,
            "grid_template_areas": null,
            "grid_template_columns": null,
            "grid_template_rows": null,
            "height": null,
            "justify_content": null,
            "justify_items": null,
            "left": null,
            "margin": null,
            "max_height": null,
            "max_width": null,
            "min_height": null,
            "min_width": null,
            "object_fit": null,
            "object_position": null,
            "order": null,
            "overflow": null,
            "overflow_x": null,
            "overflow_y": null,
            "padding": null,
            "right": null,
            "top": null,
            "visibility": null,
            "width": null
          }
        },
        "6953c4a984aa42e3815f981d7fad6c65": {
          "model_module": "@jupyter-widgets/controls",
          "model_name": "ProgressStyleModel",
          "model_module_version": "1.5.0",
          "state": {
            "_model_module": "@jupyter-widgets/controls",
            "_model_module_version": "1.5.0",
            "_model_name": "ProgressStyleModel",
            "_view_count": null,
            "_view_module": "@jupyter-widgets/base",
            "_view_module_version": "1.2.0",
            "_view_name": "StyleView",
            "bar_color": null,
            "description_width": ""
          }
        },
        "d376014470ce445595ecc6ac6a34a739": {
          "model_module": "@jupyter-widgets/base",
          "model_name": "LayoutModel",
          "model_module_version": "1.2.0",
          "state": {
            "_model_module": "@jupyter-widgets/base",
            "_model_module_version": "1.2.0",
            "_model_name": "LayoutModel",
            "_view_count": null,
            "_view_module": "@jupyter-widgets/base",
            "_view_module_version": "1.2.0",
            "_view_name": "LayoutView",
            "align_content": null,
            "align_items": null,
            "align_self": null,
            "border": null,
            "bottom": null,
            "display": null,
            "flex": null,
            "flex_flow": null,
            "grid_area": null,
            "grid_auto_columns": null,
            "grid_auto_flow": null,
            "grid_auto_rows": null,
            "grid_column": null,
            "grid_gap": null,
            "grid_row": null,
            "grid_template_areas": null,
            "grid_template_columns": null,
            "grid_template_rows": null,
            "height": null,
            "justify_content": null,
            "justify_items": null,
            "left": null,
            "margin": null,
            "max_height": null,
            "max_width": null,
            "min_height": null,
            "min_width": null,
            "object_fit": null,
            "object_position": null,
            "order": null,
            "overflow": null,
            "overflow_x": null,
            "overflow_y": null,
            "padding": null,
            "right": null,
            "top": null,
            "visibility": null,
            "width": null
          }
        },
        "797d763bd7f3487da1161779bfb7b7e6": {
          "model_module": "@jupyter-widgets/controls",
          "model_name": "DescriptionStyleModel",
          "model_module_version": "1.5.0",
          "state": {
            "_model_module": "@jupyter-widgets/controls",
            "_model_module_version": "1.5.0",
            "_model_name": "DescriptionStyleModel",
            "_view_count": null,
            "_view_module": "@jupyter-widgets/base",
            "_view_module_version": "1.2.0",
            "_view_name": "StyleView",
            "description_width": ""
          }
        }
      }
    }
  },
  "cells": [
    {
      "cell_type": "markdown",
      "source": [
        "# Урок 4. Тематическое моделирование. EM-алгоритм"
      ],
      "metadata": {
        "id": "WXitj3mf3SCd"
      }
    },
    {
      "cell_type": "markdown",
      "source": [
        "## Домашнее задание"
      ],
      "metadata": {
        "id": "1TNzicMd3fBB"
      }
    },
    {
      "cell_type": "markdown",
      "source": [
        "Скачиваем датасет (источник): положительные, отрицательные.\n",
        "\n",
        "рабочие ссылки с твитами<br>\n",
        "https://disk.yandex.ru/i/v5HM-ENiGXZVpQ<br>\n",
        "https://disk.yandex.ru/i/koR5eMCToCZS2Q"
      ],
      "metadata": {
        "id": "VfVPetMH3sGb"
      }
    },
    {
      "cell_type": "markdown",
      "source": [
        "1. объединить в одну выборку (это только для твитов), для роспотребнадзора сформировать датасет из вопросов\n",
        "2. провести исследование и выявить тематики о которых говорят в твитах (для твитов), а для роспотребнадзора так же выявить тематики о которых люди пишут проанализировать\n",
        "3. сделать визуализацию кластеров тематик\n",
        "4. проинтерпритировать получившиеся тематики"
      ],
      "metadata": {
        "id": "r9Kc3iZz3-4I"
      }
    },
    {
      "cell_type": "markdown",
      "source": [
        "### Подключение библиотек"
      ],
      "metadata": {
        "id": "WhAoHua04DNh"
      }
    },
    {
      "cell_type": "code",
      "source": [
        "!pip install stop_words"
      ],
      "metadata": {
        "colab": {
          "base_uri": "https://localhost:8080/"
        },
        "id": "We-muJIMEpk2",
        "outputId": "cab52af4-8857-4bc6-b17b-18169e811935"
      },
      "execution_count": 1,
      "outputs": [
        {
          "output_type": "stream",
          "name": "stdout",
          "text": [
            "Looking in indexes: https://pypi.org/simple, https://us-python.pkg.dev/colab-wheels/public/simple/\n",
            "Collecting stop_words\n",
            "  Downloading stop-words-2018.7.23.tar.gz (31 kB)\n",
            "Building wheels for collected packages: stop-words\n",
            "  Building wheel for stop-words (setup.py) ... \u001b[?25l\u001b[?25hdone\n",
            "  Created wheel for stop-words: filename=stop_words-2018.7.23-py3-none-any.whl size=32911 sha256=d04861512f0a6078f272a74bafe36bcfed183bdf516bbe28517da2be3aa49fef\n",
            "  Stored in directory: /root/.cache/pip/wheels/fb/86/b2/277b10b1ce9f73ce15059bf6975d4547cc4ec3feeb651978e9\n",
            "Successfully built stop-words\n",
            "Installing collected packages: stop-words\n",
            "Successfully installed stop-words-2018.7.23\n"
          ]
        }
      ]
    },
    {
      "cell_type": "code",
      "source": [
        "!pip install pymorphy2"
      ],
      "metadata": {
        "colab": {
          "base_uri": "https://localhost:8080/"
        },
        "id": "P9H9f2pGFLGe",
        "outputId": "8f388739-5726-44e0-beee-8aab8b118d8f"
      },
      "execution_count": 2,
      "outputs": [
        {
          "output_type": "stream",
          "name": "stdout",
          "text": [
            "Looking in indexes: https://pypi.org/simple, https://us-python.pkg.dev/colab-wheels/public/simple/\n",
            "Collecting pymorphy2\n",
            "  Downloading pymorphy2-0.9.1-py3-none-any.whl (55 kB)\n",
            "\u001b[K     |████████████████████████████████| 55 kB 2.2 MB/s \n",
            "\u001b[?25hCollecting dawg-python>=0.7.1\n",
            "  Downloading DAWG_Python-0.7.2-py2.py3-none-any.whl (11 kB)\n",
            "Requirement already satisfied: docopt>=0.6 in /usr/local/lib/python3.7/dist-packages (from pymorphy2) (0.6.2)\n",
            "Collecting pymorphy2-dicts-ru<3.0,>=2.4\n",
            "  Downloading pymorphy2_dicts_ru-2.4.417127.4579844-py2.py3-none-any.whl (8.2 MB)\n",
            "\u001b[K     |████████████████████████████████| 8.2 MB 24.2 MB/s \n",
            "\u001b[?25hInstalling collected packages: pymorphy2-dicts-ru, dawg-python, pymorphy2\n",
            "Successfully installed dawg-python-0.7.2 pymorphy2-0.9.1 pymorphy2-dicts-ru-2.4.417127.4579844\n"
          ]
        }
      ]
    },
    {
      "cell_type": "code",
      "source": [
        "!pip install pyLDAvis"
      ],
      "metadata": {
        "colab": {
          "base_uri": "https://localhost:8080/"
        },
        "id": "QwavbBfjHWLA",
        "outputId": "758d6559-2214-407d-c088-cb193b56e225"
      },
      "execution_count": 21,
      "outputs": [
        {
          "output_type": "stream",
          "name": "stdout",
          "text": [
            "Looking in indexes: https://pypi.org/simple, https://us-python.pkg.dev/colab-wheels/public/simple/\n",
            "Collecting pyLDAvis\n",
            "  Downloading pyLDAvis-3.3.1.tar.gz (1.7 MB)\n",
            "\u001b[K     |████████████████████████████████| 1.7 MB 8.9 MB/s \n",
            "\u001b[?25h  Installing build dependencies ... \u001b[?25l\u001b[?25hdone\n",
            "  Getting requirements to build wheel ... \u001b[?25l\u001b[?25hdone\n",
            "  Installing backend dependencies ... \u001b[?25l\u001b[?25hdone\n",
            "    Preparing wheel metadata ... \u001b[?25l\u001b[?25hdone\n",
            "Requirement already satisfied: joblib in /usr/local/lib/python3.7/dist-packages (from pyLDAvis) (1.1.0)\n",
            "Requirement already satisfied: future in /usr/local/lib/python3.7/dist-packages (from pyLDAvis) (0.16.0)\n",
            "Requirement already satisfied: setuptools in /usr/local/lib/python3.7/dist-packages (from pyLDAvis) (57.4.0)\n",
            "Requirement already satisfied: pandas>=1.2.0 in /usr/local/lib/python3.7/dist-packages (from pyLDAvis) (1.3.5)\n",
            "Requirement already satisfied: numpy>=1.20.0 in /usr/local/lib/python3.7/dist-packages (from pyLDAvis) (1.21.6)\n",
            "Collecting funcy\n",
            "  Downloading funcy-1.17-py2.py3-none-any.whl (33 kB)\n",
            "Requirement already satisfied: gensim in /usr/local/lib/python3.7/dist-packages (from pyLDAvis) (3.6.0)\n",
            "Requirement already satisfied: scipy in /usr/local/lib/python3.7/dist-packages (from pyLDAvis) (1.4.1)\n",
            "Requirement already satisfied: jinja2 in /usr/local/lib/python3.7/dist-packages (from pyLDAvis) (2.11.3)\n",
            "Requirement already satisfied: scikit-learn in /usr/local/lib/python3.7/dist-packages (from pyLDAvis) (1.0.2)\n",
            "Requirement already satisfied: numexpr in /usr/local/lib/python3.7/dist-packages (from pyLDAvis) (2.8.1)\n",
            "Requirement already satisfied: sklearn in /usr/local/lib/python3.7/dist-packages (from pyLDAvis) (0.0)\n",
            "Requirement already satisfied: python-dateutil>=2.7.3 in /usr/local/lib/python3.7/dist-packages (from pandas>=1.2.0->pyLDAvis) (2.8.2)\n",
            "Requirement already satisfied: pytz>=2017.3 in /usr/local/lib/python3.7/dist-packages (from pandas>=1.2.0->pyLDAvis) (2022.1)\n",
            "Requirement already satisfied: six>=1.5 in /usr/local/lib/python3.7/dist-packages (from python-dateutil>=2.7.3->pandas>=1.2.0->pyLDAvis) (1.15.0)\n",
            "Requirement already satisfied: smart-open>=1.2.1 in /usr/local/lib/python3.7/dist-packages (from gensim->pyLDAvis) (5.2.1)\n",
            "Requirement already satisfied: MarkupSafe>=0.23 in /usr/local/lib/python3.7/dist-packages (from jinja2->pyLDAvis) (2.0.1)\n",
            "Requirement already satisfied: packaging in /usr/local/lib/python3.7/dist-packages (from numexpr->pyLDAvis) (21.3)\n",
            "Requirement already satisfied: pyparsing!=3.0.5,>=2.0.2 in /usr/local/lib/python3.7/dist-packages (from packaging->numexpr->pyLDAvis) (3.0.9)\n",
            "Requirement already satisfied: threadpoolctl>=2.0.0 in /usr/local/lib/python3.7/dist-packages (from scikit-learn->pyLDAvis) (3.1.0)\n",
            "Building wheels for collected packages: pyLDAvis\n",
            "  Building wheel for pyLDAvis (PEP 517) ... \u001b[?25l\u001b[?25hdone\n",
            "  Created wheel for pyLDAvis: filename=pyLDAvis-3.3.1-py2.py3-none-any.whl size=136898 sha256=6cc968e40d2926f0e761ac5f4be6a381778d5d8421fa43a86aa9c886e1f6d9f8\n",
            "  Stored in directory: /root/.cache/pip/wheels/c9/21/f6/17bcf2667e8a68532ba2fbf6d5c72fdf4c7f7d9abfa4852d2f\n",
            "Successfully built pyLDAvis\n",
            "Installing collected packages: funcy, pyLDAvis\n",
            "Successfully installed funcy-1.17 pyLDAvis-3.3.1\n"
          ]
        }
      ]
    },
    {
      "cell_type": "code",
      "source": [
        "import pandas as pd\n",
        "import numpy as np\n",
        "\n",
        "import re\n",
        "from stop_words import get_stop_words\n",
        "from pymorphy2 import MorphAnalyzer\n",
        "\n",
        "import nltk\n",
        "from nltk.tokenize import word_tokenize\n",
        "\n",
        "from tqdm.notebook import tqdm\n",
        "\n",
        "from gensim.models import *\n",
        "from gensim import corpora\n",
        "\n",
        "import pyLDAvis\n",
        "import pyLDAvis.gensim_models as gensimvis\n",
        "pyLDAvis.enable_notebook()\n",
        "\n",
        "import matplotlib.pyplot as plt\n",
        "%matplotlib inline"
      ],
      "metadata": {
        "id": "UnXaS1zr4Irh"
      },
      "execution_count": 26,
      "outputs": []
    },
    {
      "cell_type": "code",
      "source": [
        "import warnings\n",
        "warnings.filterwarnings(\"ignore\") "
      ],
      "metadata": {
        "id": "VdUV8dUcKeJX"
      },
      "execution_count": 28,
      "outputs": []
    },
    {
      "cell_type": "code",
      "source": [
        "nltk.download('punkt')"
      ],
      "metadata": {
        "colab": {
          "base_uri": "https://localhost:8080/"
        },
        "id": "bN7dc8FGLWnf",
        "outputId": "d2975d2f-1930-4522-ae45-c72976c915b7"
      },
      "execution_count": 4,
      "outputs": [
        {
          "output_type": "stream",
          "name": "stderr",
          "text": [
            "[nltk_data] Downloading package punkt to /root/nltk_data...\n",
            "[nltk_data]   Unzipping tokenizers/punkt.zip.\n"
          ]
        },
        {
          "output_type": "execute_result",
          "data": {
            "text/plain": [
              "True"
            ]
          },
          "metadata": {},
          "execution_count": 4
        }
      ]
    },
    {
      "cell_type": "markdown",
      "source": [
        "### Загрузка и подготовка данных"
      ],
      "metadata": {
        "id": "tRzaabqa56pS"
      }
    },
    {
      "cell_type": "markdown",
      "source": [
        "Загрузка и объединение датасетов с положительными и отрицательными твитами"
      ],
      "metadata": {
        "id": "T8XIlC3MD-rK"
      }
    },
    {
      "cell_type": "code",
      "source": [
        "df_positive = pd.read_csv('/content/drive/MyDrive/positive.csv', sep=';', usecols = [3], names = ['tweet'])\n",
        "df_positive.head()"
      ],
      "metadata": {
        "colab": {
          "base_uri": "https://localhost:8080/",
          "height": 206
        },
        "id": "FKrLs9Bq6d1c",
        "outputId": "97a2c023-e8a3-4f35-f9e3-f1f10aaec621"
      },
      "execution_count": 5,
      "outputs": [
        {
          "output_type": "execute_result",
          "data": {
            "text/plain": [
              "                                               tweet\n",
              "0  @first_timee хоть я и школота, но поверь, у на...\n",
              "1  Да, все-таки он немного похож на него. Но мой ...\n",
              "2  RT @KatiaCheh: Ну ты идиотка) я испугалась за ...\n",
              "3  RT @digger2912: \"Кто то в углу сидит и погибае...\n",
              "4  @irina_dyshkant Вот что значит страшилка :D\\nН..."
            ],
            "text/html": [
              "\n",
              "  <div id=\"df-4f485826-b9e3-42d1-a27b-7bf6d457b79d\">\n",
              "    <div class=\"colab-df-container\">\n",
              "      <div>\n",
              "<style scoped>\n",
              "    .dataframe tbody tr th:only-of-type {\n",
              "        vertical-align: middle;\n",
              "    }\n",
              "\n",
              "    .dataframe tbody tr th {\n",
              "        vertical-align: top;\n",
              "    }\n",
              "\n",
              "    .dataframe thead th {\n",
              "        text-align: right;\n",
              "    }\n",
              "</style>\n",
              "<table border=\"1\" class=\"dataframe\">\n",
              "  <thead>\n",
              "    <tr style=\"text-align: right;\">\n",
              "      <th></th>\n",
              "      <th>tweet</th>\n",
              "    </tr>\n",
              "  </thead>\n",
              "  <tbody>\n",
              "    <tr>\n",
              "      <th>0</th>\n",
              "      <td>@first_timee хоть я и школота, но поверь, у на...</td>\n",
              "    </tr>\n",
              "    <tr>\n",
              "      <th>1</th>\n",
              "      <td>Да, все-таки он немного похож на него. Но мой ...</td>\n",
              "    </tr>\n",
              "    <tr>\n",
              "      <th>2</th>\n",
              "      <td>RT @KatiaCheh: Ну ты идиотка) я испугалась за ...</td>\n",
              "    </tr>\n",
              "    <tr>\n",
              "      <th>3</th>\n",
              "      <td>RT @digger2912: \"Кто то в углу сидит и погибае...</td>\n",
              "    </tr>\n",
              "    <tr>\n",
              "      <th>4</th>\n",
              "      <td>@irina_dyshkant Вот что значит страшилка :D\\nН...</td>\n",
              "    </tr>\n",
              "  </tbody>\n",
              "</table>\n",
              "</div>\n",
              "      <button class=\"colab-df-convert\" onclick=\"convertToInteractive('df-4f485826-b9e3-42d1-a27b-7bf6d457b79d')\"\n",
              "              title=\"Convert this dataframe to an interactive table.\"\n",
              "              style=\"display:none;\">\n",
              "        \n",
              "  <svg xmlns=\"http://www.w3.org/2000/svg\" height=\"24px\"viewBox=\"0 0 24 24\"\n",
              "       width=\"24px\">\n",
              "    <path d=\"M0 0h24v24H0V0z\" fill=\"none\"/>\n",
              "    <path d=\"M18.56 5.44l.94 2.06.94-2.06 2.06-.94-2.06-.94-.94-2.06-.94 2.06-2.06.94zm-11 1L8.5 8.5l.94-2.06 2.06-.94-2.06-.94L8.5 2.5l-.94 2.06-2.06.94zm10 10l.94 2.06.94-2.06 2.06-.94-2.06-.94-.94-2.06-.94 2.06-2.06.94z\"/><path d=\"M17.41 7.96l-1.37-1.37c-.4-.4-.92-.59-1.43-.59-.52 0-1.04.2-1.43.59L10.3 9.45l-7.72 7.72c-.78.78-.78 2.05 0 2.83L4 21.41c.39.39.9.59 1.41.59.51 0 1.02-.2 1.41-.59l7.78-7.78 2.81-2.81c.8-.78.8-2.07 0-2.86zM5.41 20L4 18.59l7.72-7.72 1.47 1.35L5.41 20z\"/>\n",
              "  </svg>\n",
              "      </button>\n",
              "      \n",
              "  <style>\n",
              "    .colab-df-container {\n",
              "      display:flex;\n",
              "      flex-wrap:wrap;\n",
              "      gap: 12px;\n",
              "    }\n",
              "\n",
              "    .colab-df-convert {\n",
              "      background-color: #E8F0FE;\n",
              "      border: none;\n",
              "      border-radius: 50%;\n",
              "      cursor: pointer;\n",
              "      display: none;\n",
              "      fill: #1967D2;\n",
              "      height: 32px;\n",
              "      padding: 0 0 0 0;\n",
              "      width: 32px;\n",
              "    }\n",
              "\n",
              "    .colab-df-convert:hover {\n",
              "      background-color: #E2EBFA;\n",
              "      box-shadow: 0px 1px 2px rgba(60, 64, 67, 0.3), 0px 1px 3px 1px rgba(60, 64, 67, 0.15);\n",
              "      fill: #174EA6;\n",
              "    }\n",
              "\n",
              "    [theme=dark] .colab-df-convert {\n",
              "      background-color: #3B4455;\n",
              "      fill: #D2E3FC;\n",
              "    }\n",
              "\n",
              "    [theme=dark] .colab-df-convert:hover {\n",
              "      background-color: #434B5C;\n",
              "      box-shadow: 0px 1px 3px 1px rgba(0, 0, 0, 0.15);\n",
              "      filter: drop-shadow(0px 1px 2px rgba(0, 0, 0, 0.3));\n",
              "      fill: #FFFFFF;\n",
              "    }\n",
              "  </style>\n",
              "\n",
              "      <script>\n",
              "        const buttonEl =\n",
              "          document.querySelector('#df-4f485826-b9e3-42d1-a27b-7bf6d457b79d button.colab-df-convert');\n",
              "        buttonEl.style.display =\n",
              "          google.colab.kernel.accessAllowed ? 'block' : 'none';\n",
              "\n",
              "        async function convertToInteractive(key) {\n",
              "          const element = document.querySelector('#df-4f485826-b9e3-42d1-a27b-7bf6d457b79d');\n",
              "          const dataTable =\n",
              "            await google.colab.kernel.invokeFunction('convertToInteractive',\n",
              "                                                     [key], {});\n",
              "          if (!dataTable) return;\n",
              "\n",
              "          const docLinkHtml = 'Like what you see? Visit the ' +\n",
              "            '<a target=\"_blank\" href=https://colab.research.google.com/notebooks/data_table.ipynb>data table notebook</a>'\n",
              "            + ' to learn more about interactive tables.';\n",
              "          element.innerHTML = '';\n",
              "          dataTable['output_type'] = 'display_data';\n",
              "          await google.colab.output.renderOutput(dataTable, element);\n",
              "          const docLink = document.createElement('div');\n",
              "          docLink.innerHTML = docLinkHtml;\n",
              "          element.appendChild(docLink);\n",
              "        }\n",
              "      </script>\n",
              "    </div>\n",
              "  </div>\n",
              "  "
            ]
          },
          "metadata": {},
          "execution_count": 5
        }
      ]
    },
    {
      "cell_type": "code",
      "source": [
        "df_negative = pd.read_csv('/content/drive/MyDrive/negative.csv', sep=';', usecols = [3], names = ['tweet'])\n",
        "df_negative.head()"
      ],
      "metadata": {
        "colab": {
          "base_uri": "https://localhost:8080/",
          "height": 206
        },
        "id": "ZEfTgvdA7-72",
        "outputId": "0236b465-a66b-425e-f116-f37580cc6019"
      },
      "execution_count": 6,
      "outputs": [
        {
          "output_type": "execute_result",
          "data": {
            "text/plain": [
              "                                               tweet\n",
              "0  на работе был полный пиддес :| и так каждое за...\n",
              "1  Коллеги сидят рубятся в Urban terror, а я из-з...\n",
              "2  @elina_4post как говорят обещаного три года жд...\n",
              "3  Желаю хорошего полёта и удачной посадки,я буду...\n",
              "4  Обновил за каким-то лешим surf, теперь не рабо..."
            ],
            "text/html": [
              "\n",
              "  <div id=\"df-a3232983-b2cf-47de-9757-99b4baea6c6b\">\n",
              "    <div class=\"colab-df-container\">\n",
              "      <div>\n",
              "<style scoped>\n",
              "    .dataframe tbody tr th:only-of-type {\n",
              "        vertical-align: middle;\n",
              "    }\n",
              "\n",
              "    .dataframe tbody tr th {\n",
              "        vertical-align: top;\n",
              "    }\n",
              "\n",
              "    .dataframe thead th {\n",
              "        text-align: right;\n",
              "    }\n",
              "</style>\n",
              "<table border=\"1\" class=\"dataframe\">\n",
              "  <thead>\n",
              "    <tr style=\"text-align: right;\">\n",
              "      <th></th>\n",
              "      <th>tweet</th>\n",
              "    </tr>\n",
              "  </thead>\n",
              "  <tbody>\n",
              "    <tr>\n",
              "      <th>0</th>\n",
              "      <td>на работе был полный пиддес :| и так каждое за...</td>\n",
              "    </tr>\n",
              "    <tr>\n",
              "      <th>1</th>\n",
              "      <td>Коллеги сидят рубятся в Urban terror, а я из-з...</td>\n",
              "    </tr>\n",
              "    <tr>\n",
              "      <th>2</th>\n",
              "      <td>@elina_4post как говорят обещаного три года жд...</td>\n",
              "    </tr>\n",
              "    <tr>\n",
              "      <th>3</th>\n",
              "      <td>Желаю хорошего полёта и удачной посадки,я буду...</td>\n",
              "    </tr>\n",
              "    <tr>\n",
              "      <th>4</th>\n",
              "      <td>Обновил за каким-то лешим surf, теперь не рабо...</td>\n",
              "    </tr>\n",
              "  </tbody>\n",
              "</table>\n",
              "</div>\n",
              "      <button class=\"colab-df-convert\" onclick=\"convertToInteractive('df-a3232983-b2cf-47de-9757-99b4baea6c6b')\"\n",
              "              title=\"Convert this dataframe to an interactive table.\"\n",
              "              style=\"display:none;\">\n",
              "        \n",
              "  <svg xmlns=\"http://www.w3.org/2000/svg\" height=\"24px\"viewBox=\"0 0 24 24\"\n",
              "       width=\"24px\">\n",
              "    <path d=\"M0 0h24v24H0V0z\" fill=\"none\"/>\n",
              "    <path d=\"M18.56 5.44l.94 2.06.94-2.06 2.06-.94-2.06-.94-.94-2.06-.94 2.06-2.06.94zm-11 1L8.5 8.5l.94-2.06 2.06-.94-2.06-.94L8.5 2.5l-.94 2.06-2.06.94zm10 10l.94 2.06.94-2.06 2.06-.94-2.06-.94-.94-2.06-.94 2.06-2.06.94z\"/><path d=\"M17.41 7.96l-1.37-1.37c-.4-.4-.92-.59-1.43-.59-.52 0-1.04.2-1.43.59L10.3 9.45l-7.72 7.72c-.78.78-.78 2.05 0 2.83L4 21.41c.39.39.9.59 1.41.59.51 0 1.02-.2 1.41-.59l7.78-7.78 2.81-2.81c.8-.78.8-2.07 0-2.86zM5.41 20L4 18.59l7.72-7.72 1.47 1.35L5.41 20z\"/>\n",
              "  </svg>\n",
              "      </button>\n",
              "      \n",
              "  <style>\n",
              "    .colab-df-container {\n",
              "      display:flex;\n",
              "      flex-wrap:wrap;\n",
              "      gap: 12px;\n",
              "    }\n",
              "\n",
              "    .colab-df-convert {\n",
              "      background-color: #E8F0FE;\n",
              "      border: none;\n",
              "      border-radius: 50%;\n",
              "      cursor: pointer;\n",
              "      display: none;\n",
              "      fill: #1967D2;\n",
              "      height: 32px;\n",
              "      padding: 0 0 0 0;\n",
              "      width: 32px;\n",
              "    }\n",
              "\n",
              "    .colab-df-convert:hover {\n",
              "      background-color: #E2EBFA;\n",
              "      box-shadow: 0px 1px 2px rgba(60, 64, 67, 0.3), 0px 1px 3px 1px rgba(60, 64, 67, 0.15);\n",
              "      fill: #174EA6;\n",
              "    }\n",
              "\n",
              "    [theme=dark] .colab-df-convert {\n",
              "      background-color: #3B4455;\n",
              "      fill: #D2E3FC;\n",
              "    }\n",
              "\n",
              "    [theme=dark] .colab-df-convert:hover {\n",
              "      background-color: #434B5C;\n",
              "      box-shadow: 0px 1px 3px 1px rgba(0, 0, 0, 0.15);\n",
              "      filter: drop-shadow(0px 1px 2px rgba(0, 0, 0, 0.3));\n",
              "      fill: #FFFFFF;\n",
              "    }\n",
              "  </style>\n",
              "\n",
              "      <script>\n",
              "        const buttonEl =\n",
              "          document.querySelector('#df-a3232983-b2cf-47de-9757-99b4baea6c6b button.colab-df-convert');\n",
              "        buttonEl.style.display =\n",
              "          google.colab.kernel.accessAllowed ? 'block' : 'none';\n",
              "\n",
              "        async function convertToInteractive(key) {\n",
              "          const element = document.querySelector('#df-a3232983-b2cf-47de-9757-99b4baea6c6b');\n",
              "          const dataTable =\n",
              "            await google.colab.kernel.invokeFunction('convertToInteractive',\n",
              "                                                     [key], {});\n",
              "          if (!dataTable) return;\n",
              "\n",
              "          const docLinkHtml = 'Like what you see? Visit the ' +\n",
              "            '<a target=\"_blank\" href=https://colab.research.google.com/notebooks/data_table.ipynb>data table notebook</a>'\n",
              "            + ' to learn more about interactive tables.';\n",
              "          element.innerHTML = '';\n",
              "          dataTable['output_type'] = 'display_data';\n",
              "          await google.colab.output.renderOutput(dataTable, element);\n",
              "          const docLink = document.createElement('div');\n",
              "          docLink.innerHTML = docLinkHtml;\n",
              "          element.appendChild(docLink);\n",
              "        }\n",
              "      </script>\n",
              "    </div>\n",
              "  </div>\n",
              "  "
            ]
          },
          "metadata": {},
          "execution_count": 6
        }
      ]
    },
    {
      "cell_type": "code",
      "source": [
        "df = df_positive.append(df_negative)\n",
        "df.head()"
      ],
      "metadata": {
        "colab": {
          "base_uri": "https://localhost:8080/",
          "height": 206
        },
        "id": "rMJHPLM48RHX",
        "outputId": "7885f8ba-23c2-4811-dd43-061bb9a8b369"
      },
      "execution_count": 7,
      "outputs": [
        {
          "output_type": "execute_result",
          "data": {
            "text/plain": [
              "                                               tweet\n",
              "0  @first_timee хоть я и школота, но поверь, у на...\n",
              "1  Да, все-таки он немного похож на него. Но мой ...\n",
              "2  RT @KatiaCheh: Ну ты идиотка) я испугалась за ...\n",
              "3  RT @digger2912: \"Кто то в углу сидит и погибае...\n",
              "4  @irina_dyshkant Вот что значит страшилка :D\\nН..."
            ],
            "text/html": [
              "\n",
              "  <div id=\"df-b8a3c8b8-748d-4f12-b202-08f70b0cc7db\">\n",
              "    <div class=\"colab-df-container\">\n",
              "      <div>\n",
              "<style scoped>\n",
              "    .dataframe tbody tr th:only-of-type {\n",
              "        vertical-align: middle;\n",
              "    }\n",
              "\n",
              "    .dataframe tbody tr th {\n",
              "        vertical-align: top;\n",
              "    }\n",
              "\n",
              "    .dataframe thead th {\n",
              "        text-align: right;\n",
              "    }\n",
              "</style>\n",
              "<table border=\"1\" class=\"dataframe\">\n",
              "  <thead>\n",
              "    <tr style=\"text-align: right;\">\n",
              "      <th></th>\n",
              "      <th>tweet</th>\n",
              "    </tr>\n",
              "  </thead>\n",
              "  <tbody>\n",
              "    <tr>\n",
              "      <th>0</th>\n",
              "      <td>@first_timee хоть я и школота, но поверь, у на...</td>\n",
              "    </tr>\n",
              "    <tr>\n",
              "      <th>1</th>\n",
              "      <td>Да, все-таки он немного похож на него. Но мой ...</td>\n",
              "    </tr>\n",
              "    <tr>\n",
              "      <th>2</th>\n",
              "      <td>RT @KatiaCheh: Ну ты идиотка) я испугалась за ...</td>\n",
              "    </tr>\n",
              "    <tr>\n",
              "      <th>3</th>\n",
              "      <td>RT @digger2912: \"Кто то в углу сидит и погибае...</td>\n",
              "    </tr>\n",
              "    <tr>\n",
              "      <th>4</th>\n",
              "      <td>@irina_dyshkant Вот что значит страшилка :D\\nН...</td>\n",
              "    </tr>\n",
              "  </tbody>\n",
              "</table>\n",
              "</div>\n",
              "      <button class=\"colab-df-convert\" onclick=\"convertToInteractive('df-b8a3c8b8-748d-4f12-b202-08f70b0cc7db')\"\n",
              "              title=\"Convert this dataframe to an interactive table.\"\n",
              "              style=\"display:none;\">\n",
              "        \n",
              "  <svg xmlns=\"http://www.w3.org/2000/svg\" height=\"24px\"viewBox=\"0 0 24 24\"\n",
              "       width=\"24px\">\n",
              "    <path d=\"M0 0h24v24H0V0z\" fill=\"none\"/>\n",
              "    <path d=\"M18.56 5.44l.94 2.06.94-2.06 2.06-.94-2.06-.94-.94-2.06-.94 2.06-2.06.94zm-11 1L8.5 8.5l.94-2.06 2.06-.94-2.06-.94L8.5 2.5l-.94 2.06-2.06.94zm10 10l.94 2.06.94-2.06 2.06-.94-2.06-.94-.94-2.06-.94 2.06-2.06.94z\"/><path d=\"M17.41 7.96l-1.37-1.37c-.4-.4-.92-.59-1.43-.59-.52 0-1.04.2-1.43.59L10.3 9.45l-7.72 7.72c-.78.78-.78 2.05 0 2.83L4 21.41c.39.39.9.59 1.41.59.51 0 1.02-.2 1.41-.59l7.78-7.78 2.81-2.81c.8-.78.8-2.07 0-2.86zM5.41 20L4 18.59l7.72-7.72 1.47 1.35L5.41 20z\"/>\n",
              "  </svg>\n",
              "      </button>\n",
              "      \n",
              "  <style>\n",
              "    .colab-df-container {\n",
              "      display:flex;\n",
              "      flex-wrap:wrap;\n",
              "      gap: 12px;\n",
              "    }\n",
              "\n",
              "    .colab-df-convert {\n",
              "      background-color: #E8F0FE;\n",
              "      border: none;\n",
              "      border-radius: 50%;\n",
              "      cursor: pointer;\n",
              "      display: none;\n",
              "      fill: #1967D2;\n",
              "      height: 32px;\n",
              "      padding: 0 0 0 0;\n",
              "      width: 32px;\n",
              "    }\n",
              "\n",
              "    .colab-df-convert:hover {\n",
              "      background-color: #E2EBFA;\n",
              "      box-shadow: 0px 1px 2px rgba(60, 64, 67, 0.3), 0px 1px 3px 1px rgba(60, 64, 67, 0.15);\n",
              "      fill: #174EA6;\n",
              "    }\n",
              "\n",
              "    [theme=dark] .colab-df-convert {\n",
              "      background-color: #3B4455;\n",
              "      fill: #D2E3FC;\n",
              "    }\n",
              "\n",
              "    [theme=dark] .colab-df-convert:hover {\n",
              "      background-color: #434B5C;\n",
              "      box-shadow: 0px 1px 3px 1px rgba(0, 0, 0, 0.15);\n",
              "      filter: drop-shadow(0px 1px 2px rgba(0, 0, 0, 0.3));\n",
              "      fill: #FFFFFF;\n",
              "    }\n",
              "  </style>\n",
              "\n",
              "      <script>\n",
              "        const buttonEl =\n",
              "          document.querySelector('#df-b8a3c8b8-748d-4f12-b202-08f70b0cc7db button.colab-df-convert');\n",
              "        buttonEl.style.display =\n",
              "          google.colab.kernel.accessAllowed ? 'block' : 'none';\n",
              "\n",
              "        async function convertToInteractive(key) {\n",
              "          const element = document.querySelector('#df-b8a3c8b8-748d-4f12-b202-08f70b0cc7db');\n",
              "          const dataTable =\n",
              "            await google.colab.kernel.invokeFunction('convertToInteractive',\n",
              "                                                     [key], {});\n",
              "          if (!dataTable) return;\n",
              "\n",
              "          const docLinkHtml = 'Like what you see? Visit the ' +\n",
              "            '<a target=\"_blank\" href=https://colab.research.google.com/notebooks/data_table.ipynb>data table notebook</a>'\n",
              "            + ' to learn more about interactive tables.';\n",
              "          element.innerHTML = '';\n",
              "          dataTable['output_type'] = 'display_data';\n",
              "          await google.colab.output.renderOutput(dataTable, element);\n",
              "          const docLink = document.createElement('div');\n",
              "          docLink.innerHTML = docLinkHtml;\n",
              "          element.appendChild(docLink);\n",
              "        }\n",
              "      </script>\n",
              "    </div>\n",
              "  </div>\n",
              "  "
            ]
          },
          "metadata": {},
          "execution_count": 7
        }
      ]
    },
    {
      "cell_type": "markdown",
      "source": [
        "Препроцессинг твитов"
      ],
      "metadata": {
        "id": "iNqX-ZRdEJ0R"
      }
    },
    {
      "cell_type": "code",
      "source": [
        "stopwords = set(get_stop_words(\"ru\"))"
      ],
      "metadata": {
        "id": "8M7vv4osE2xd"
      },
      "execution_count": 8,
      "outputs": []
    },
    {
      "cell_type": "code",
      "source": [
        "morpher = MorphAnalyzer()"
      ],
      "metadata": {
        "id": "sAYc4MS0FV-9"
      },
      "execution_count": 9,
      "outputs": []
    },
    {
      "cell_type": "code",
      "source": [
        "def preprocess_txt(line):\n",
        "    line = line.lower() # переводим в нижний регистр\n",
        "    line = re.sub(r'[^\\w\\s]', ' ', line) # убираем знаки пунктуации\n",
        "    line = re.sub(\" \\d+\", \" \", line) # убираем числа\n",
        "    line = re.sub(r'rt*', '', line) # убираем rt\n",
        "    words = word_tokenize(line) # токенизация\n",
        "    words = [morpher.parse(word)[0].normal_form for word in words] # лемматизация\n",
        "    words = [word for word in words if len(word)>3] # убираем слова длинной меньше 3 символов\n",
        "    words = [word for word in words if word not in stopwords] # убираем стоп слова\n",
        "   \n",
        "    return words"
      ],
      "metadata": {
        "id": "DMB7HTa1L1NC"
      },
      "execution_count": 10,
      "outputs": []
    },
    {
      "cell_type": "code",
      "source": [
        "preprocessed_text = list(tqdm(map(preprocess_txt, df['tweet']), total=len(df)))"
      ],
      "metadata": {
        "colab": {
          "base_uri": "https://localhost:8080/",
          "height": 49,
          "referenced_widgets": [
            "c32ce49d9f384cdf84b95a21611d0549",
            "f03e74f4ad58432ead46ea0f2882e2e4",
            "6303cbcc19ba42f1bec2384fbd3950f8",
            "2a64134be750485b8c82fbaf649ae7d3",
            "fb94c93b893242e684c865df34d7c18c",
            "30d5a4b1354842cca377032b20ec4221",
            "7b87eadcf6ff4ce796115d6986c701ca",
            "f391753aa6f442848b83feb869e30613",
            "3b0be532fcc14752898c569e64e9bc4f",
            "9ccdef3fec3b4fdd9662bed8dc29cf59",
            "8ff9facebd974826afb842ef349454fd"
          ]
        },
        "id": "5XgffDgm0O2d",
        "outputId": "791660cb-fb06-443e-9a04-967efa78983c"
      },
      "execution_count": 12,
      "outputs": [
        {
          "output_type": "display_data",
          "data": {
            "text/plain": [
              "  0%|          | 0/226834 [00:00<?, ?it/s]"
            ],
            "application/vnd.jupyter.widget-view+json": {
              "version_major": 2,
              "version_minor": 0,
              "model_id": "c32ce49d9f384cdf84b95a21611d0549"
            }
          },
          "metadata": {}
        }
      ]
    },
    {
      "cell_type": "code",
      "source": [
        "df['preprocessed_text'] = preprocessed_text\n",
        "df.head()"
      ],
      "metadata": {
        "colab": {
          "base_uri": "https://localhost:8080/",
          "height": 206
        },
        "id": "KWO5xiuf--3I",
        "outputId": "550f5839-c6b2-427f-ae8c-b09a56fdb5ce"
      },
      "execution_count": 13,
      "outputs": [
        {
          "output_type": "execute_result",
          "data": {
            "text/plain": [
              "                                               tweet  \\\n",
              "0  @first_timee хоть я и школота, но поверь, у на...   \n",
              "1  Да, все-таки он немного похож на него. Но мой ...   \n",
              "2  RT @KatiaCheh: Ну ты идиотка) я испугалась за ...   \n",
              "3  RT @digger2912: \"Кто то в углу сидит и погибае...   \n",
              "4  @irina_dyshkant Вот что значит страшилка :D\\nН...   \n",
              "\n",
              "                                   preprocessed_text  \n",
              "0  [fist_timee, школотый, поверь, самый, общество...  \n",
              "1           [таки, похожий, мальчик, равно, хороший]  \n",
              "2                   [katiacheh, идиотка, испугаться]  \n",
              "3  [digge2912, угол, сидеть, погибать, голод, пор...  \n",
              "4  [iina_dyshkant, страшилка, блин, посмотреть, ч...  "
            ],
            "text/html": [
              "\n",
              "  <div id=\"df-ffd8f10f-f8cb-44b6-82e7-fab1575f3181\">\n",
              "    <div class=\"colab-df-container\">\n",
              "      <div>\n",
              "<style scoped>\n",
              "    .dataframe tbody tr th:only-of-type {\n",
              "        vertical-align: middle;\n",
              "    }\n",
              "\n",
              "    .dataframe tbody tr th {\n",
              "        vertical-align: top;\n",
              "    }\n",
              "\n",
              "    .dataframe thead th {\n",
              "        text-align: right;\n",
              "    }\n",
              "</style>\n",
              "<table border=\"1\" class=\"dataframe\">\n",
              "  <thead>\n",
              "    <tr style=\"text-align: right;\">\n",
              "      <th></th>\n",
              "      <th>tweet</th>\n",
              "      <th>preprocessed_text</th>\n",
              "    </tr>\n",
              "  </thead>\n",
              "  <tbody>\n",
              "    <tr>\n",
              "      <th>0</th>\n",
              "      <td>@first_timee хоть я и школота, но поверь, у на...</td>\n",
              "      <td>[fist_timee, школотый, поверь, самый, общество...</td>\n",
              "    </tr>\n",
              "    <tr>\n",
              "      <th>1</th>\n",
              "      <td>Да, все-таки он немного похож на него. Но мой ...</td>\n",
              "      <td>[таки, похожий, мальчик, равно, хороший]</td>\n",
              "    </tr>\n",
              "    <tr>\n",
              "      <th>2</th>\n",
              "      <td>RT @KatiaCheh: Ну ты идиотка) я испугалась за ...</td>\n",
              "      <td>[katiacheh, идиотка, испугаться]</td>\n",
              "    </tr>\n",
              "    <tr>\n",
              "      <th>3</th>\n",
              "      <td>RT @digger2912: \"Кто то в углу сидит и погибае...</td>\n",
              "      <td>[digge2912, угол, сидеть, погибать, голод, пор...</td>\n",
              "    </tr>\n",
              "    <tr>\n",
              "      <th>4</th>\n",
              "      <td>@irina_dyshkant Вот что значит страшилка :D\\nН...</td>\n",
              "      <td>[iina_dyshkant, страшилка, блин, посмотреть, ч...</td>\n",
              "    </tr>\n",
              "  </tbody>\n",
              "</table>\n",
              "</div>\n",
              "      <button class=\"colab-df-convert\" onclick=\"convertToInteractive('df-ffd8f10f-f8cb-44b6-82e7-fab1575f3181')\"\n",
              "              title=\"Convert this dataframe to an interactive table.\"\n",
              "              style=\"display:none;\">\n",
              "        \n",
              "  <svg xmlns=\"http://www.w3.org/2000/svg\" height=\"24px\"viewBox=\"0 0 24 24\"\n",
              "       width=\"24px\">\n",
              "    <path d=\"M0 0h24v24H0V0z\" fill=\"none\"/>\n",
              "    <path d=\"M18.56 5.44l.94 2.06.94-2.06 2.06-.94-2.06-.94-.94-2.06-.94 2.06-2.06.94zm-11 1L8.5 8.5l.94-2.06 2.06-.94-2.06-.94L8.5 2.5l-.94 2.06-2.06.94zm10 10l.94 2.06.94-2.06 2.06-.94-2.06-.94-.94-2.06-.94 2.06-2.06.94z\"/><path d=\"M17.41 7.96l-1.37-1.37c-.4-.4-.92-.59-1.43-.59-.52 0-1.04.2-1.43.59L10.3 9.45l-7.72 7.72c-.78.78-.78 2.05 0 2.83L4 21.41c.39.39.9.59 1.41.59.51 0 1.02-.2 1.41-.59l7.78-7.78 2.81-2.81c.8-.78.8-2.07 0-2.86zM5.41 20L4 18.59l7.72-7.72 1.47 1.35L5.41 20z\"/>\n",
              "  </svg>\n",
              "      </button>\n",
              "      \n",
              "  <style>\n",
              "    .colab-df-container {\n",
              "      display:flex;\n",
              "      flex-wrap:wrap;\n",
              "      gap: 12px;\n",
              "    }\n",
              "\n",
              "    .colab-df-convert {\n",
              "      background-color: #E8F0FE;\n",
              "      border: none;\n",
              "      border-radius: 50%;\n",
              "      cursor: pointer;\n",
              "      display: none;\n",
              "      fill: #1967D2;\n",
              "      height: 32px;\n",
              "      padding: 0 0 0 0;\n",
              "      width: 32px;\n",
              "    }\n",
              "\n",
              "    .colab-df-convert:hover {\n",
              "      background-color: #E2EBFA;\n",
              "      box-shadow: 0px 1px 2px rgba(60, 64, 67, 0.3), 0px 1px 3px 1px rgba(60, 64, 67, 0.15);\n",
              "      fill: #174EA6;\n",
              "    }\n",
              "\n",
              "    [theme=dark] .colab-df-convert {\n",
              "      background-color: #3B4455;\n",
              "      fill: #D2E3FC;\n",
              "    }\n",
              "\n",
              "    [theme=dark] .colab-df-convert:hover {\n",
              "      background-color: #434B5C;\n",
              "      box-shadow: 0px 1px 3px 1px rgba(0, 0, 0, 0.15);\n",
              "      filter: drop-shadow(0px 1px 2px rgba(0, 0, 0, 0.3));\n",
              "      fill: #FFFFFF;\n",
              "    }\n",
              "  </style>\n",
              "\n",
              "      <script>\n",
              "        const buttonEl =\n",
              "          document.querySelector('#df-ffd8f10f-f8cb-44b6-82e7-fab1575f3181 button.colab-df-convert');\n",
              "        buttonEl.style.display =\n",
              "          google.colab.kernel.accessAllowed ? 'block' : 'none';\n",
              "\n",
              "        async function convertToInteractive(key) {\n",
              "          const element = document.querySelector('#df-ffd8f10f-f8cb-44b6-82e7-fab1575f3181');\n",
              "          const dataTable =\n",
              "            await google.colab.kernel.invokeFunction('convertToInteractive',\n",
              "                                                     [key], {});\n",
              "          if (!dataTable) return;\n",
              "\n",
              "          const docLinkHtml = 'Like what you see? Visit the ' +\n",
              "            '<a target=\"_blank\" href=https://colab.research.google.com/notebooks/data_table.ipynb>data table notebook</a>'\n",
              "            + ' to learn more about interactive tables.';\n",
              "          element.innerHTML = '';\n",
              "          dataTable['output_type'] = 'display_data';\n",
              "          await google.colab.output.renderOutput(dataTable, element);\n",
              "          const docLink = document.createElement('div');\n",
              "          docLink.innerHTML = docLinkHtml;\n",
              "          element.appendChild(docLink);\n",
              "        }\n",
              "      </script>\n",
              "    </div>\n",
              "  </div>\n",
              "  "
            ]
          },
          "metadata": {},
          "execution_count": 13
        }
      ]
    },
    {
      "cell_type": "markdown",
      "source": [
        "### Модель LDA"
      ],
      "metadata": {
        "id": "Mh9K9Iyi_emu"
      }
    },
    {
      "cell_type": "markdown",
      "source": [
        "Векторизация документов"
      ],
      "metadata": {
        "id": "vtFNG7MQHGDV"
      }
    },
    {
      "cell_type": "code",
      "source": [
        "dictionary = corpora.Dictionary(df['preprocessed_text'])\n",
        "\n",
        "dictionary.filter_extremes(no_below = 10, no_above = 0.9, keep_n=None) # игнорируем слова, которые встречаются реже 10 раз или составляют более 0.9 словаря \n",
        "dictionary.save('tweets.dict')\n"
      ],
      "metadata": {
        "id": "la4JFqLd_lb5"
      },
      "execution_count": 18,
      "outputs": []
    },
    {
      "cell_type": "code",
      "source": [
        "corpus = [dictionary.doc2bow(text) for text in df['preprocessed_text']]\n",
        "corpora.MmCorpus.serialize('tweets.model', corpus)"
      ],
      "metadata": {
        "id": "eDAd-c9xB174"
      },
      "execution_count": 19,
      "outputs": []
    },
    {
      "cell_type": "markdown",
      "source": [
        "Обучение модели"
      ],
      "metadata": {
        "id": "2nzsOz1aHNvJ"
      }
    },
    {
      "cell_type": "code",
      "source": [
        "%%time\n",
        "lda = ldamodel.LdaModel(corpus, id2word=dictionary, num_topics=20, chunksize=50, update_every=1, passes=2)"
      ],
      "metadata": {
        "colab": {
          "base_uri": "https://localhost:8080/"
        },
        "id": "eGdgwCsYCBAv",
        "outputId": "35e06a8b-2c16-401c-e38c-a2fa34295fb3"
      },
      "execution_count": 20,
      "outputs": [
        {
          "output_type": "stream",
          "name": "stdout",
          "text": [
            "CPU times: user 6min 21s, sys: 5.43 s, total: 6min 27s\n",
            "Wall time: 6min 30s\n"
          ]
        }
      ]
    },
    {
      "cell_type": "code",
      "source": [
        "%%time\n",
        "vis_data = gensimvis.prepare(lda, corpus, dictionary)\n",
        "pyLDAvis.display(vis_data)"
      ],
      "metadata": {
        "colab": {
          "base_uri": "https://localhost:8080/"
        },
        "id": "hN7WHYHzHwNc",
        "outputId": "469621af-4849-48a1-9440-d1f73ad90667"
      },
      "execution_count": 23,
      "outputs": [
        {
          "output_type": "stream",
          "name": "stderr",
          "text": [
            "/usr/local/lib/python3.7/dist-packages/pyLDAvis/_prepare.py:247: FutureWarning: In a future version of pandas all arguments of DataFrame.drop except for the argument 'labels' will be keyword-only\n",
            "  by='saliency', ascending=False).head(R).drop('saliency', 1)\n"
          ]
        },
        {
          "output_type": "stream",
          "name": "stdout",
          "text": [
            "CPU times: user 15.2 s, sys: 275 ms, total: 15.5 s\n",
            "Wall time: 18.6 s\n"
          ]
        }
      ]
    },
    {
      "cell_type": "markdown",
      "source": [
        "Перплексия и когерентность"
      ],
      "metadata": {
        "id": "NjBWKGyQLDTK"
      }
    },
    {
      "cell_type": "code",
      "source": [
        "coherence_model_lda = CoherenceModel(model=lda, texts=df['preprocessed_text'], dictionary=dictionary, coherence='c_v')\n",
        "coherence_lda = coherence_model_lda.get_coherence()\n",
        "\n",
        "print('Персплексия: ', np.exp(lda.log_perplexity(corpus)))\n",
        "print('Средняя когерентность: ', coherence_lda)"
      ],
      "metadata": {
        "colab": {
          "base_uri": "https://localhost:8080/"
        },
        "id": "bmbvDUXtIQZx",
        "outputId": "78614033-51d4-42fd-d0c1-b7ba40102733"
      },
      "execution_count": 29,
      "outputs": [
        {
          "output_type": "stream",
          "name": "stdout",
          "text": [
            "Персплексия:  5.7688787927027444e-05\n",
            "Средняя когерентность:  0.3022560278211944\n"
          ]
        }
      ]
    },
    {
      "cell_type": "markdown",
      "source": [
        "Подбор количества тем"
      ],
      "metadata": {
        "id": "SotVej8OLHvk"
      }
    },
    {
      "cell_type": "code",
      "source": [
        "topics_list = [3, 5, 7, 10, 15, 20, 25]\n",
        "coherences = []\n",
        "\n",
        "for num in tqdm(topics_list):\n",
        "    lda = ldamodel.LdaModel(corpus, id2word=dictionary, num_topics=num, chunksize=50, update_every=1, passes=2)\n",
        "    coherences.append(CoherenceModel(model=lda, texts=df['preprocessed_text'], dictionary=dictionary, coherence='c_v').get_coherence())\n",
        "\n",
        "plt.plot(topics_list, coherences)\n",
        "plt.xlabel(\"Число тем\")\n",
        "plt.ylabel(\"Средняя когерентность\")\n",
        "plt.show()"
      ],
      "metadata": {
        "colab": {
          "base_uri": "https://localhost:8080/",
          "height": 311,
          "referenced_widgets": [
            "2d179c4d9e72460783f4e991a64e02a3",
            "98b4a6aba28d4cd08595810069e0b842",
            "3b6c32802cc743d8a4fa39e0b2fbd3a0",
            "7e70bf0f3c8d4822b806b5257bdf6981",
            "2833643c2a3f4efab68b558c30166bd0",
            "84b5f0c5dcc84f998fd24365e4a33ff2",
            "431b38847b71480aaf62b6eb69803ff8",
            "0f1d4a9f9f194c80a822c44077ed56d3",
            "6953c4a984aa42e3815f981d7fad6c65",
            "d376014470ce445595ecc6ac6a34a739",
            "797d763bd7f3487da1161779bfb7b7e6"
          ]
        },
        "id": "XHA4MT3dLKru",
        "outputId": "f9f1c2a7-f0ad-4f29-84f7-ffb1a2856cf9"
      },
      "execution_count": 30,
      "outputs": [
        {
          "output_type": "display_data",
          "data": {
            "text/plain": [
              "  0%|          | 0/7 [00:00<?, ?it/s]"
            ],
            "application/vnd.jupyter.widget-view+json": {
              "version_major": 2,
              "version_minor": 0,
              "model_id": "2d179c4d9e72460783f4e991a64e02a3"
            }
          },
          "metadata": {}
        },
        {
          "output_type": "display_data",
          "data": {
            "text/plain": [
              "<Figure size 432x288 with 1 Axes>"
            ],
            "image/png": "[encoded data removed]"
          },
          "metadata": {
            "needs_background": "light"
          }
        }
      ]
    },
    {
      "cell_type": "markdown",
      "source": [
        "Обучение модели с новым количеством тем"
      ],
      "metadata": {
        "id": "Zhh0ufP4Spj3"
      }
    },
    {
      "cell_type": "code",
      "source": [
        "lda_15 = ldamodel.LdaModel(corpus, id2word=dictionary, num_topics=5, chunksize=50, update_every=1, passes=2)\n",
        "vis_data = gensimvis.prepare(lda_15, corpus, dictionary)\n",
        "pyLDAvis.display(vis_data)"
      ],
      "metadata": {
        "colab": {
          "base_uri": "https://localhost:8080/",
          "height": 862
        },
        "id": "WkPF-EggSvMO",
        "outputId": "8426b645-8fe8-4695-ac8c-4d0932a30427"
      },
      "execution_count": 31,
      "outputs": [
        {
          "output_type": "execute_result",
          "data": {
            "text/plain": [
              "<IPython.core.display.HTML object>"
            ],
            "text/html": [
              "\n",
              "<link rel=\"stylesheet\" type=\"text/css\" href=\"https://cdn.jsdelivr.net/gh/bmabey/pyLDAvis@3.3.1/pyLDAvis/js/ldavis.v1.0.0.css\">\n",
              "\n",
              "\n",
              "<div id=\"ldavis_el631400914285513766863044669\"></div>\n",
              "<script type=\"text/javascript\">\n",
              "\n",
              "var ldavis_el631400914285513766863044669_data = {\"mdsDat\": {\"x\": [0.13605467748509048, -0.11541389758350763, 0.3333840429285758, -0.09551175274754371, -0.258513070082615], \"y\": [-0.37948686073722454, 0.14847158027499352, 0.2251228115431809, -0.029217105159354682, 0.03510957407840485], \"topics\": [1, 2, 3, 4, 5], \"cluster\": [1, 1, 1, 1, 1], \"Freq\": [21.305175251216337, 21.13855346683262, 19.646327812143, 19.1870093755485, 18.722934094259543]}, \"tinfo\": {\"Term\": [\"http\", \"\\u0437\\u0430\\u0432\\u0442\\u0440\\u0430\", \"\\u0437\\u043d\\u0430\\u0442\\u044c\", \"\\u0431\\u043b\\u0438\\u043d\", \"\\u0432\\u043e\\u043e\\u0431\\u0449\\u0435\", \"\\u0441\\u0432\\u043e\\u0439\", \"\\u043b\\u044e\\u0431\\u0438\\u0442\\u044c\", \"\\u0434\\u0435\\u043b\\u0430\\u0442\\u044c\", \"\\u0441\\u043f\\u0430\\u0442\\u044c\", \"\\u0438\\u0434\\u0442\\u0438\", \"\\u0431\\u043e\\u043b\\u044c\\u0448\\u043e\\u0439\", \"\\u0441\\u043c\\u043e\\u0442\\u0440\\u0435\\u0442\\u044c\", \"\\u0448\\u043a\\u043e\\u043b\\u0430\", \"\\u043f\\u0438\\u0441\\u0430\\u0442\\u044c\", \"\\u0445\\u043e\\u0440\\u043e\\u0448\\u0438\\u0439\", \"\\u0431\\u043e\\u043b\\u0435\\u0442\\u044c\", \"\\u0441\\u0430\\u043c\\u044b\\u0439\", \"\\u0441\\u043a\\u0443\\u0447\\u0430\\u0442\\u044c\", \"\\u043f\\u043e\\u0439\\u0442\\u0438\", \"\\u0441\\u0438\\u0434\\u0435\\u0442\\u044c\", \"\\u0434\\u0443\\u043c\\u0430\\u0442\\u044c\", \"\\u0433\\u043e\\u0432\\u043e\\u0440\\u0438\\u0442\\u044c\", \"\\u0436\\u0430\\u043b\\u044c\", \"\\u043d\\u0438\\u043a\\u0442\\u043e\", \"\\u0445\\u043e\\u0442\\u0435\\u0442\\u044c\\u0441\\u044f\", \"\\u043f\\u043b\\u043e\\u0445\\u043e\", \"\\u043c\\u0430\\u043c\\u0430\", \"\\u0443\\u0442\\u0440\\u043e\", \"\\u043d\\u043e\\u0447\\u044c\", \"\\u043f\\u043e\\u043d\\u0438\\u043c\\u0430\\u0442\\u044c\", \"\\u0434\\u0435\\u043b\\u0430\\u0442\\u044c\", \"\\u043f\\u0438\\u0441\\u0430\\u0442\\u044c\", \"\\u0431\\u043e\\u043b\\u0435\\u0442\\u044c\", \"\\u043f\\u043e\\u0439\\u0442\\u0438\", \"\\u0445\\u043e\\u0442\\u0435\\u0442\\u044c\\u0441\\u044f\", \"\\u043c\\u0430\\u043c\\u0430\", \"\\u0441\\u0434\\u0435\\u043b\\u0430\\u0442\\u044c\", \"\\u0441\\u0442\\u0430\\u0442\\u044c\", \"\\u0434\\u0440\\u0443\\u0433\", \"\\u0436\\u0434\\u0430\\u0442\\u044c\", \"\\u043d\\u0430\\u0441\\u0442\\u0440\\u043e\\u0435\\u043d\\u0438\\u0435\", \"\\u043f\\u043b\\u043e\\u0445\\u043e\\u0439\", \"\\u0441\\u043a\\u043e\\u0440\\u043e\", \"\\u043d\\u0438\\u0431\\u044b\\u0442\\u044c\", \"\\u0431\\u043b\\u044f\\u0434\\u044c\", \"\\u043f\\u0440\\u0438\\u0439\\u0442\\u0438\\u0441\\u044c\", \"\\u0432\\u0440\\u043e\\u0434\\u0435\", \"\\u043c\\u0438\\u043d\\u0443\\u0442\\u0430\", \"\\u0441\\u043a\\u0443\\u0447\\u043d\\u043e\", \"\\u043f\\u0440\\u043e\\u0441\\u0442\\u0438\\u0442\\u044c\", \"\\u0440\\u0430\\u0431\\u043e\\u0442\\u0430\\u0442\\u044c\", \"\\u0443\\u0441\\u0442\\u0430\\u0442\\u044c\", \"\\u0442\\u0432\\u0438\\u0442\", \"\\u0432\\u0435\\u0447\\u0435\\u0440\", \"\\u043f\\u0430\\u043f\\u0430\", \"\\u043c\\u0430\\u043b\\u0435\\u043d\\u044c\\u043a\\u0438\\u0439\", \"\\u0443\\u0447\\u0451\\u0431\\u0430\", \"\\u0445\\u043e\\u0434\\u0438\\u0442\\u044c\", \"\\u0441\\u043c\\u043e\\u0447\\u044c\", \"\\u0441\\u0442\\u043e\\u043b\\u044c\\u043a\\u043e\", \"http\", \"\\u0437\\u043d\\u0430\\u0442\\u044c\", \"\\u043b\\u044e\\u0431\\u0438\\u0442\\u044c\", \"\\u0441\\u043c\\u043e\\u0442\\u0440\\u0435\\u0442\\u044c\", \"\\u0441\\u043a\\u0443\\u0447\\u0430\\u0442\\u044c\", \"\\u0441\\u0438\\u0434\\u0435\\u0442\\u044c\", \"\\u0434\\u0443\\u043c\\u0430\\u0442\\u044c\", \"\\u0433\\u043e\\u043b\\u043e\\u0432\\u0430\", \"\\u0434\\u0435\\u043b\\u043e\", \"\\u0432\\u044b\\u0445\\u043e\\u0434\\u043d\\u043e\\u0439\", \"\\u043f\\u043e\\u043d\\u044f\\u0442\\u044c\", \"\\u043d\\u0430\\u0439\\u0442\\u0438\", \"\\u0434\\u043e\\u043c\\u043e\\u0439\", \"\\u0443\\u0436\\u0430\\u0441\\u043d\\u043e\", \"\\u0436\\u0438\\u0442\\u044c\", \"\\u0434\\u0430\\u0442\\u044c\", \"\\u0442\\u0432\\u0438\\u0442\\u0442\\u0435\\u0440\", \"\\u043e\\u0431\\u0438\\u0434\\u043d\\u043e\", \"\\u043f\\u043b\\u0430\\u043a\\u0430\\u0442\\u044c\", \"\\u0441\\u043d\\u0435\\u0433\", \"\\u043c\\u0435\\u0441\\u044f\\u0446\", \"\\u043c\\u043e\\u043c\\u0435\\u043d\\u0442\", \"\\u043f\\u043e\\u0433\\u043e\\u0434\\u0430\", \"\\u0445\\u0432\\u0430\\u0442\\u0430\\u0442\\u044c\", \"\\u043f\\u043e\\u0435\\u0445\\u0430\\u0442\\u044c\", \"\\u043c\\u0443\\u0437\\u044b\\u043a\\u0430\", \"\\u0440\\u043e\\u0434\\u0438\\u0442\\u0435\\u043b\\u044c\", \"\\u0446\\u0435\\u043b\\u044b\\u0439\", \"\\u043c\\u043e\\u0440\\u043e\\u0437\", \"\\u0432\\u0437\\u044f\\u0442\\u044c\", \"\\u0437\\u0430\\u0432\\u0442\\u0440\\u0430\", \"\\u0431\\u043b\\u0438\\u043d\", \"\\u0432\\u043e\\u043e\\u0431\\u0449\\u0435\", \"\\u0438\\u0434\\u0442\\u0438\", \"\\u0431\\u043e\\u043b\\u044c\\u0448\\u043e\\u0439\", \"\\u0448\\u043a\\u043e\\u043b\\u0430\", \"\\u0445\\u043e\\u0440\\u043e\\u0448\\u0438\\u0439\", \"\\u0436\\u0430\\u043b\\u044c\", \"\\u0443\\u0440\\u043e\\u043a\", \"\\u043f\\u043e\\u0441\\u043b\\u0435\\u0434\\u043d\\u0438\\u0439\", \"\\u0440\\u0430\\u0431\\u043e\\u0442\\u0430\", \"\\u043f\\u043e\\u0441\\u043c\\u043e\\u0442\\u0440\\u0435\\u0442\\u044c\", \"\\u0443\\u043b\\u0438\\u0446\\u0430\", \"\\u043d\\u043e\\u0432\\u044b\\u0439\", \"\\u043e\\u0441\\u0442\\u0430\\u0442\\u044c\\u0441\\u044f\", \"\\u043d\\u0430\\u043f\\u0438\\u0441\\u0430\\u0442\\u044c\", \"\\u044d\\u043a\\u0437\\u0430\\u043c\\u0435\\u043d\", \"\\u0440\\u0430\\u0432\\u043d\\u043e\", \"\\u0432\\u0438\\u0434\\u0435\\u0442\\u044c\", \"\\u0437\\u0430\\u0431\\u043e\\u043b\\u0435\\u0442\\u044c\", \"\\u0442\\u0435\\u043b\\u0435\\u0444\\u043e\\u043d\", \"\\u043d\\u0435\\u043d\\u0430\\u0432\\u0438\\u0434\\u0435\\u0442\\u044c\", \"\\u043f\\u043e\\u043d\\u0435\\u0434\\u0435\\u043b\\u044c\\u043d\\u0438\\u043a\", \"\\u0441\\u043b\\u043e\\u0432\\u043e\", \"\\u0441\\u0438\\u043b\\u044c\\u043d\\u043e\", \"\\u043f\\u0430\\u0440\\u0430\", \"\\u0443\\u0436\\u0430\\u0441\", \"\\u0431\\u043e\\u043b\\u044c\", \"\\u043b\\u0435\\u043d\\u0442\\u0430\", \"\\u0442\\u0435\\u043c\\u043f\\u0435\\u0440\\u0430\\u0442\\u0443\\u0440\\u0430\", \"\\u0441\\u0432\\u043e\\u0439\", \"\\u0441\\u0430\\u043c\\u044b\\u0439\", \"\\u0433\\u043e\\u0432\\u043e\\u0440\\u0438\\u0442\\u044c\", \"\\u043d\\u0438\\u043a\\u0442\\u043e\", \"\\u0436\\u0430\\u043b\\u043a\\u043e\", \"\\u0443\\u0447\\u0438\\u0442\\u044c\", \"\\u0432\\u0441\\u0442\\u0430\\u0432\\u0430\\u0442\\u044c\", \"\\u043f\\u0440\\u043e\\u0439\\u0442\\u0438\", \"\\u043a\\u0430\\u0437\\u0430\\u0442\\u044c\\u0441\\u044f\", \"\\u0431\\u043e\\u044f\\u0442\\u044c\\u0441\\u044f\", \"\\u0440\\u0443\\u043a\\u0430\", \"\\u0433\\u043e\\u0440\\u043e\\u0434\", \"\\u0440\\u0430\\u043d\\u043d\\u0438\\u0439\", \"\\u043f\\u043e\\u043b\\u0443\\u0447\\u0438\\u0442\\u044c\\u0441\\u044f\", \"\\u043a\\u043e\\u043d\\u0435\\u0446\", \"\\u0443\\u0439\\u0442\\u0438\", \"\\u0441\\u0443\\u043a\\u0430\", \"\\u043f\\u0430\\u0440\\u0435\\u043d\\u044c\", \"\\u043d\\u043e\\u0440\\u043c\\u0430\\u043b\\u044c\\u043d\\u043e\", \"\\u0431\\u043e\\u043b\\u044c\\u043d\\u043e\", \"\\u043f\\u043e\\u043c\\u043d\\u0438\\u0442\\u044c\", \"\\u0443\\u0435\\u0445\\u0430\\u0442\\u044c\", \"\\u043f\\u0440\\u0430\\u0432\\u0434\\u0430\", \"\\u0434\\u043e\\u043b\\u0436\\u043d\\u044b\\u0439\", \"\\u0431\\u0435\\u0441\\u0438\\u0442\\u044c\", \"\\u0432\\u043e\\u0434\\u0430\", \"\\u0433\\u0440\\u0443\\u0441\\u0442\\u043d\\u043e\", \"\\u043d\\u0430\\u0447\\u0430\\u043b\\u043e\", \"\\u0443\\u0431\\u0438\\u0442\\u044c\", \"\\u043f\\u0440\\u043e\\u0431\\u043b\\u0435\\u043c\\u0430\", \"\\u0441\\u043f\\u0430\\u0442\\u044c\", \"\\u043f\\u043b\\u043e\\u0445\\u043e\", \"\\u0443\\u0442\\u0440\\u043e\", \"\\u043d\\u043e\\u0447\\u044c\", \"\\u043f\\u043e\\u043d\\u0438\\u043c\\u0430\\u0442\\u044c\", \"\\u043d\\u0435\\u0434\\u0435\\u043b\\u044f\", \"\\u043b\\u044e\\u0431\\u0438\\u043c\\u044b\\u0439\", \"\\u0445\\u043e\\u043b\\u043e\\u0434\\u043d\\u043e\", \"\\u0432\\u0447\\u0435\\u0440\\u0430\", \"\\u043f\\u0440\\u0438\\u0439\\u0442\\u0438\", \"\\u0437\\u0430\\u0431\\u044b\\u0442\\u044c\", \"\\u0447\\u0438\\u0442\\u0430\\u0442\\u044c\", \"\\u043f\\u0438\\u0437\\u0434\\u0435\\u0446\", \"\\u043d\\u0440\\u0430\\u0432\\u0438\\u0442\\u044c\\u0441\\u044f\", \"\\u0444\\u0438\\u043b\\u044c\\u043c\", \"\\u0437\\u0430\\u043a\\u043e\\u043d\\u0447\\u0438\\u0442\\u044c\\u0441\\u044f\", \"\\u043a\\u0443\\u043f\\u0438\\u0442\\u044c\", \"\\u0443\\u0436\\u0430\\u0441\\u043d\\u044b\\u0439\", \"\\u0447\\u0443\\u0432\\u0441\\u0442\\u0432\\u043e\", \"\\u0433\\u0443\\u043b\\u044f\\u0442\\u044c\", \"\\u043f\\u0435\\u0441\\u043d\\u044f\", \"\\u043f\\u044b\\u0442\\u0430\\u0442\\u044c\\u0441\\u044f\", \"\\u043f\\u0435\\u0447\\u0430\\u043b\\u044c\\u043d\\u043e\", \"\\u0447\\u0443\\u0432\\u0441\\u0442\\u0432\\u043e\\u0432\\u0430\\u0442\\u044c\", \"\\u043a\\u0430\\u0442\\u043e\\u043a\", \"\\u043f\\u0440\\u043e\\u0441\\u043d\\u0443\\u0442\\u044c\\u0441\\u044f\", \"\\u0443\\u0441\\u043d\\u0443\\u0442\\u044c\", \"\\u0441\\u043b\\u0435\\u0437\\u0430\", \"\\u043d\\u0430\\u0447\\u0438\\u043d\\u0430\\u0442\\u044c\", \"\\u0441\\u0435\\u0440\\u0438\\u0430\\u043b\"], \"Freq\": [24981.0, 7366.0, 7439.0, 6172.0, 5926.0, 5153.0, 5469.0, 5269.0, 4833.0, 4660.0, 4611.0, 4719.0, 4234.0, 4427.0, 3981.0, 4181.0, 3792.0, 3967.0, 3938.0, 3808.0, 3716.0, 3493.0, 3279.0, 3108.0, 3317.0, 2975.0, 3149.0, 2879.0, 2778.0, 2770.0, 5268.60627728911, 4426.67499626477, 4180.707437298985, 3937.4314268467188, 3316.511807561453, 3148.609318666504, 2735.076773034416, 2670.384328908895, 2647.7714678567136, 2518.0670746727815, 2306.8207456108635, 2284.5623254186276, 2286.079603317296, 2091.3511923001524, 1718.6370427746963, 1711.4501932471333, 1654.191055734586, 1629.2136676194145, 1608.0066070986607, 1558.3922973574413, 1557.9515753443127, 1500.3935768557715, 1467.1026026322716, 1463.0203924890486, 1452.0339962280761, 1442.9951191007842, 1426.8655191785551, 1362.7416837324754, 1329.1866785935915, 1322.475698739104, 24980.71343281993, 7439.046300283505, 5468.761961445316, 4718.664009722903, 3966.9417427304693, 3808.146228234149, 3715.4896719751237, 2627.44759236967, 2274.4333816865633, 2081.9228214879467, 1983.4990216816059, 1953.8325796890636, 1906.6114743612086, 1863.632033494937, 1650.6067201637745, 1579.8465933863536, 1565.6569432423462, 1535.9146634571916, 1470.9916308255447, 1438.9383991355985, 1411.7652558732975, 1252.7440136535372, 1203.1750879095239, 1166.8237860867578, 1156.061016806976, 1118.5892693695373, 1125.9825088027753, 1090.9773803181215, 1053.1661484683248, 1016.2287318494705, 7365.515848076039, 6171.269357899067, 5925.972609961255, 4659.42845975563, 4610.159024283052, 4233.3984955840715, 3980.4535280478867, 3278.2082653738285, 2824.0537367106112, 2478.4105201292427, 2230.211228728003, 2145.2635087642293, 2130.9142132740008, 2096.2641000379126, 1845.6177766692877, 1845.8823364966079, 1818.457732876495, 1823.6704400866797, 1805.8902624668024, 1759.9417850037391, 1762.6641153892215, 1542.974025276556, 1362.2091790117931, 1377.9603487161621, 1352.163422587161, 1307.3032524875546, 1291.2898659211255, 1262.165343381038, 1150.218951356782, 1144.2544451686656, 5153.033494799025, 3792.078999092656, 3493.092500290918, 3107.7894389357953, 2004.546339682653, 1860.6568633013628, 1831.3209551843368, 1730.7156104333837, 1724.498602963316, 1719.343124158009, 1709.4739775616313, 1584.9629767710842, 1576.6076573831735, 1500.3974502745527, 1475.3477954520893, 1428.3578476127889, 1405.0597055530632, 1407.10782471746, 1327.5879439903272, 1312.446144282105, 1276.3647525508784, 1227.0419967926478, 1204.1096788290859, 1179.031612335875, 1164.8739242566867, 1167.8352212144266, 1103.0780636757486, 1109.7821692191292, 1072.7488911766961, 1068.9306677200454, 4832.549738753384, 2974.7390980929717, 2878.7158301798167, 2778.0817395140543, 2769.663731759788, 2663.6447657727795, 2353.5847984114953, 2263.26551643382, 2172.7276018195703, 2115.066267565914, 2074.4303684157126, 2027.756301019148, 1963.644094529408, 1904.0865175529177, 1863.4390820423182, 1639.587358809794, 1478.4876679620236, 1440.0058119754847, 1411.7126089939716, 1361.723326545623, 1269.4187671926875, 1247.2253217364362, 1214.2268653103483, 1189.166727330366, 1167.2738784906135, 1141.3061824809363, 1125.8893253716824, 1106.3017018379046, 1097.513600199258, 1069.8271725606123], \"Total\": [24981.0, 7366.0, 7439.0, 6172.0, 5926.0, 5153.0, 5469.0, 5269.0, 4833.0, 4660.0, 4611.0, 4719.0, 4234.0, 4427.0, 3981.0, 4181.0, 3792.0, 3967.0, 3938.0, 3808.0, 3716.0, 3493.0, 3279.0, 3108.0, 3317.0, 2975.0, 3149.0, 2879.0, 2778.0, 2770.0, 5269.455312728298, 4427.527860351948, 4181.555418174096, 3938.2832685965986, 3317.3628692275106, 3149.4638300465845, 2735.922747512511, 2671.235430439647, 2648.6203232599196, 2518.915109243083, 2307.667137123003, 2285.4123482640857, 2286.9333571725188, 2092.202880819893, 1719.4858570152187, 1712.3015417867502, 1655.0450293275292, 1630.0645417997805, 1608.8509375365948, 1559.2386344243093, 1558.7996636777061, 1501.2458410258257, 1467.9522106153047, 1463.8730897318067, 1452.8843969240374, 1443.8459269015, 1427.7170219392679, 1363.5870570677575, 1330.0377357487157, 1323.3271493490442, 24981.546401664666, 7439.880826039254, 5469.59508884064, 4719.5009985729375, 3967.774658216536, 3808.9835840521746, 3716.3241791234423, 2628.2849432070275, 2275.269309290624, 2082.7678990144573, 1984.3332393922192, 1954.6698709421266, 1907.4519620287892, 1864.468677216304, 1651.4405042306958, 1580.6813377007768, 1566.4955114720199, 1536.7464399704265, 1471.8254810630974, 1439.7755600595435, 1412.6025613373668, 1253.5814964926437, 1204.010225352632, 1167.6560088984613, 1156.8981517964787, 1119.4285899266642, 1126.8301749671398, 1091.8177989852263, 1054.0097010086529, 1017.0703053892935, 7366.372893653293, 6172.127048809499, 5926.832324603916, 4660.289486765988, 4611.019292226904, 4234.254033234889, 3981.3135448221265, 3279.0693886954964, 2824.912595596575, 2479.268808911722, 2231.071251609334, 2146.1288646444677, 2131.774985142129, 2097.1224035783384, 1846.4767437127714, 1846.741469131415, 1819.3115841724089, 1824.5297521913174, 1806.746840941443, 1760.7974315989097, 1763.5278954929033, 1543.831220696075, 1363.066373179344, 1378.8293750116552, 1353.020037208237, 1308.1601103346575, 1292.1482716312255, 1263.0206110830059, 1151.0754487613597, 1145.1145061931418, 5153.872576010059, 3792.9196255471816, 3493.932296620337, 3108.6307883428726, 2005.388366923955, 1861.4985261890604, 1832.170274088915, 1731.5575239165687, 1725.3380229692186, 1720.1845422871136, 1710.3127863068664, 1585.804191025079, 1577.450537356416, 1501.2364158389535, 1476.1928641511668, 1429.202425038355, 1405.894005109283, 1407.9488386060425, 1328.4308472452783, 1313.2840912043378, 1277.2048722187378, 1227.8853276428833, 1204.9423466124003, 1179.8738851694445, 1165.7188150356778, 1168.6846316792214, 1103.9157941101573, 1110.632100547838, 1073.586580911166, 1069.7663603614003, 4833.392709368014, 2975.5829849830598, 2879.558429168371, 2778.9239942880527, 2770.5083392245733, 2664.488431760021, 2354.426680631294, 2264.1110665581077, 2173.5727339370333, 2115.915716215296, 2075.277437759568, 2028.6013544088114, 1964.491930751169, 1904.9303615265442, 1864.2853102929253, 1640.4315888166432, 1479.3339114980683, 1440.8523809859892, 1412.555591835285, 1362.5723838225958, 1270.2623845503815, 1248.0732704927564, 1215.074600591448, 1190.0084735170824, 1168.1329569874092, 1142.1477342786618, 1126.729928230669, 1107.1499485440409, 1098.3618464419967, 1070.6773235458215], \"Category\": [\"Default\", \"Default\", \"Default\", \"Default\", \"Default\", \"Default\", \"Default\", \"Default\", \"Default\", \"Default\", \"Default\", \"Default\", \"Default\", \"Default\", \"Default\", \"Default\", \"Default\", \"Default\", \"Default\", \"Default\", \"Default\", \"Default\", \"Default\", \"Default\", \"Default\", \"Default\", \"Default\", \"Default\", \"Default\", \"Default\", \"Topic1\", \"Topic1\", \"Topic1\", \"Topic1\", \"Topic1\", \"Topic1\", \"Topic1\", \"Topic1\", \"Topic1\", \"Topic1\", \"Topic1\", \"Topic1\", \"Topic1\", \"Topic1\", \"Topic1\", \"Topic1\", \"Topic1\", \"Topic1\", \"Topic1\", \"Topic1\", \"Topic1\", \"Topic1\", \"Topic1\", \"Topic1\", \"Topic1\", \"Topic1\", \"Topic1\", \"Topic1\", \"Topic1\", \"Topic1\", \"Topic2\", \"Topic2\", \"Topic2\", \"Topic2\", \"Topic2\", \"Topic2\", \"Topic2\", \"Topic2\", \"Topic2\", \"Topic2\", \"Topic2\", \"Topic2\", \"Topic2\", \"Topic2\", \"Topic2\", \"Topic2\", \"Topic2\", \"Topic2\", \"Topic2\", \"Topic2\", \"Topic2\", \"Topic2\", \"Topic2\", \"Topic2\", \"Topic2\", \"Topic2\", \"Topic2\", \"Topic2\", \"Topic2\", \"Topic2\", \"Topic3\", \"Topic3\", \"Topic3\", \"Topic3\", \"Topic3\", \"Topic3\", \"Topic3\", \"Topic3\", \"Topic3\", \"Topic3\", \"Topic3\", \"Topic3\", \"Topic3\", \"Topic3\", \"Topic3\", \"Topic3\", \"Topic3\", \"Topic3\", \"Topic3\", \"Topic3\", \"Topic3\", \"Topic3\", \"Topic3\", \"Topic3\", \"Topic3\", \"Topic3\", \"Topic3\", \"Topic3\", \"Topic3\", \"Topic3\", \"Topic4\", \"Topic4\", \"Topic4\", \"Topic4\", \"Topic4\", \"Topic4\", \"Topic4\", \"Topic4\", \"Topic4\", \"Topic4\", \"Topic4\", \"Topic4\", \"Topic4\", \"Topic4\", \"Topic4\", \"Topic4\", \"Topic4\", \"Topic4\", \"Topic4\", \"Topic4\", \"Topic4\", \"Topic4\", \"Topic4\", \"Topic4\", \"Topic4\", \"Topic4\", \"Topic4\", \"Topic4\", \"Topic4\", \"Topic4\", \"Topic5\", \"Topic5\", \"Topic5\", \"Topic5\", \"Topic5\", \"Topic5\", \"Topic5\", \"Topic5\", \"Topic5\", \"Topic5\", \"Topic5\", \"Topic5\", \"Topic5\", \"Topic5\", \"Topic5\", \"Topic5\", \"Topic5\", \"Topic5\", \"Topic5\", \"Topic5\", \"Topic5\", \"Topic5\", \"Topic5\", \"Topic5\", \"Topic5\", \"Topic5\", \"Topic5\", \"Topic5\", \"Topic5\", \"Topic5\"], \"logprob\": [30.0, 29.0, 28.0, 27.0, 26.0, 25.0, 24.0, 23.0, 22.0, 21.0, 20.0, 19.0, 18.0, 17.0, 16.0, 15.0, 14.0, 13.0, 12.0, 11.0, 10.0, 9.0, 8.0, 7.0, 6.0, 5.0, 4.0, 3.0, 2.0, 1.0, -3.7647, -3.9388, -3.996, -4.0559, -4.2276, -4.2795, -4.4203, -4.4443, -4.4528, -4.503, -4.5906, -4.6003, -4.5996, -4.6887, -4.8849, -4.8891, -4.9232, -4.9384, -4.9515, -4.9828, -4.9831, -5.0207, -5.0432, -5.046, -5.0535, -5.0598, -5.071, -5.117, -5.1419, -5.147, -2.2005, -3.4119, -3.7196, -3.8671, -4.0406, -4.0815, -4.1061, -4.4526, -4.5969, -4.6853, -4.7338, -4.7488, -4.7733, -4.7961, -4.9175, -4.9613, -4.9703, -4.9895, -5.0327, -5.0547, -5.0738, -5.1933, -5.2337, -5.2643, -5.2736, -5.3066, -5.3, -5.3315, -5.3668, -5.4025, -3.3486, -3.5255, -3.5661, -3.8065, -3.8172, -3.9024, -3.964, -4.1581, -4.3072, -4.4378, -4.5433, -4.5822, -4.5889, -4.6053, -4.7326, -4.7325, -4.7474, -4.7446, -4.7544, -4.7801, -4.7786, -4.9117, -5.0363, -5.0248, -5.0437, -5.0774, -5.0898, -5.1126, -5.2055, -5.2107, -3.6822, -3.9888, -4.071, -4.1878, -4.6263, -4.7008, -4.7167, -4.7732, -4.7768, -4.7798, -4.7856, -4.8612, -4.8665, -4.916, -4.9329, -4.9652, -4.9817, -4.9802, -5.0384, -5.0499, -5.0777, -5.1172, -5.136, -5.1571, -5.1691, -5.1666, -5.2237, -5.2176, -5.2515, -5.2551, -3.7219, -4.2071, -4.2399, -4.2755, -4.2785, -4.3176, -4.4413, -4.4805, -4.5213, -4.5482, -4.5676, -4.5903, -4.6225, -4.6533, -4.6749, -4.8028, -4.9063, -4.9326, -4.9525, -4.9885, -5.0587, -5.0764, -5.1032, -5.124, -5.1426, -5.1651, -5.1787, -5.1963, -5.2042, -5.2298], \"loglift\": [30.0, 29.0, 28.0, 27.0, 26.0, 25.0, 24.0, 23.0, 22.0, 21.0, 20.0, 19.0, 18.0, 17.0, 16.0, 15.0, 14.0, 13.0, 12.0, 11.0, 10.0, 9.0, 8.0, 7.0, 6.0, 5.0, 4.0, 3.0, 2.0, 1.0, 1.5461, 1.546, 1.546, 1.546, 1.546, 1.5459, 1.5459, 1.5459, 1.5459, 1.5459, 1.5459, 1.5458, 1.5458, 1.5458, 1.5457, 1.5457, 1.5457, 1.5457, 1.5457, 1.5457, 1.5457, 1.5457, 1.5456, 1.5456, 1.5456, 1.5456, 1.5456, 1.5456, 1.5456, 1.5456, 1.554, 1.554, 1.5539, 1.5539, 1.5539, 1.5539, 1.5538, 1.5538, 1.5537, 1.5537, 1.5537, 1.5536, 1.5536, 1.5536, 1.5536, 1.5535, 1.5535, 1.5535, 1.5535, 1.5535, 1.5535, 1.5534, 1.5534, 1.5534, 1.5533, 1.5533, 1.5533, 1.5533, 1.5533, 1.5532, 1.6272, 1.6271, 1.6271, 1.6271, 1.6271, 1.6271, 1.6271, 1.627, 1.627, 1.6269, 1.6269, 1.6269, 1.6269, 1.6269, 1.6268, 1.6268, 1.6268, 1.6268, 1.6268, 1.6268, 1.6268, 1.6267, 1.6267, 1.6266, 1.6266, 1.6266, 1.6266, 1.6266, 1.6265, 1.6265, 1.6508, 1.6507, 1.6507, 1.6507, 1.6505, 1.6505, 1.6505, 1.6505, 1.6505, 1.6504, 1.6504, 1.6504, 1.6504, 1.6504, 1.6504, 1.6503, 1.6503, 1.6503, 1.6503, 1.6503, 1.6503, 1.6502, 1.6502, 1.6502, 1.6502, 1.6502, 1.6502, 1.6502, 1.6502, 1.6502, 1.6752, 1.6751, 1.6751, 1.6751, 1.6751, 1.6751, 1.6751, 1.675, 1.675, 1.675, 1.675, 1.675, 1.675, 1.675, 1.675, 1.6749, 1.6748, 1.6748, 1.6748, 1.6748, 1.6748, 1.6747, 1.6747, 1.6747, 1.6747, 1.6747, 1.6747, 1.6747, 1.6746, 1.6746]}, \"token.table\": {\"Topic\": [2, 4, 3, 1, 1, 3, 4, 3, 4, 1, 2, 3, 4, 3, 1, 4, 5, 2, 4, 2, 4, 4, 5, 2, 1, 2, 4, 2, 1, 2, 4, 3, 1, 2, 3, 5, 3, 5, 2, 3, 4, 5, 4, 5, 3, 5, 2, 1, 1, 2, 1, 2, 2, 2, 2, 3, 1, 4, 5, 5, 3, 1, 4, 3, 4, 5, 5, 2, 3, 1, 3, 4, 5, 5, 5, 1, 2, 5, 1, 2, 2, 1, 4, 4, 3, 5, 2, 3, 3, 4, 5, 1, 4, 4, 5, 1, 5, 3, 1, 3, 4, 2, 4, 4, 4, 1, 5, 2, 3, 1, 2, 1, 5, 3, 2, 1, 2, 5, 1, 1, 4, 1, 2, 3, 3, 4, 4, 3, 2, 5, 4, 3, 3, 5, 1, 5, 4, 1, 5, 2, 1, 5, 3, 1, 2, 5, 5, 5, 3, 3], \"Freq\": [0.9999781277885732, 0.9993833718505643, 0.9998173970171732, 0.9997174405283786, 0.9998671742644657, 0.999191928402395, 0.9990222289198979, 0.9997789442719048, 0.999311386506509, 0.9994035755299207, 0.9989476584031388, 0.9995866377488426, 0.9994141861194515, 0.9998595667030328, 0.9993685795195834, 0.999361263466903, 0.9997365011402237, 0.9996313084070383, 0.999733166947385, 0.9995111096266984, 0.99949288125884, 0.9991704130740375, 0.9995799240984248, 0.9995689594831506, 0.9999135939672553, 0.9994421278898982, 0.9992593401884482, 0.9997630545681955, 0.9997657938155681, 0.9996436857874561, 0.9998063382981768, 0.9996738743317897, 0.9996367050085472, 0.9997332606112256, 0.9995471190583316, 0.9993844496469123, 0.9999493789333398, 0.9997369053244369, 0.9998816075069145, 0.9997233032905681, 0.9992244864766175, 0.9990301129844577, 0.9991919320434781, 0.9990983026295142, 0.9990657008951785, 0.9998187751460668, 0.9998912005676885, 0.9994141155328704, 0.999852727298482, 0.9995734388752656, 0.9993469327302801, 0.9995361318795223, 0.9990420382206286, 0.9996171350897047, 0.9996572971466513, 0.9995984986833247, 0.9997109040934583, 0.9994308641470688, 0.9996705580741275, 0.9998166883540575, 0.9994615857712087, 0.9994250649251465, 0.999797084830647, 0.999464788714086, 0.9996756720561166, 0.9996674992587232, 0.9995116033922633, 0.9995142725234223, 0.9997418089805925, 0.9993912819726677, 0.9991131740484269, 0.9993260844570305, 0.9990062017377391, 0.9991156093700544, 0.9997495888155769, 0.9998807776328918, 0.9994391447398362, 0.999804077054479, 0.9998195738005884, 0.999160949524049, 0.9992236552586033, 0.9996741553339163, 0.9991764016473964, 0.9990566335558643, 0.9992176659916738, 0.9998165177063804, 0.9993281171903226, 0.9994882326163419, 0.9994739995985028, 0.9992179321981257, 0.9995672246260668, 0.999239887511056, 0.999283618937932, 0.9996780217180959, 0.9989951087374991, 0.9992056158711289, 0.9991400581054567, 0.9995198487683613, 0.999487000352682, 0.9997096500121847, 0.9997143889169603, 0.9992632652323461, 0.9992324291104079, 0.9997575415147246, 0.9998306950749771, 0.9996627289592334, 0.99936738779189, 0.999741772567282, 0.9992461033981864, 0.9995918739085284, 0.9998047625474568, 0.9994710898836299, 0.9989613434516679, 0.9993984933693132, 0.9998938450117737, 0.9992197696946309, 0.9994613326680504, 0.9999187507840501, 0.9995375059698711, 0.9989971116743905, 0.9993641020546116, 0.999351334049965, 0.9996836815245297, 0.9997006594030905, 0.9990267294780442, 0.9994536249599281, 0.9992789818210607, 0.999111346850485, 0.9997486269294672, 0.9994084189350433, 0.9991586740847276, 0.9996364601576009, 0.9996769473158222, 0.9993521710816582, 0.9991701285746948, 0.9998060712494269, 0.999732190930024, 0.9994977842750001, 0.999310561379297, 0.9994381830834921, 0.99956947591669, 0.9995092702939716, 0.999670072500611, 0.9998906151537185, 0.9992509748549745, 0.9997035620589011, 0.9996066761276537, 0.9991525492973157, 0.9997038360889436, 0.9992790766662405], \"Term\": [\"http\", \"\\u0431\\u0435\\u0441\\u0438\\u0442\\u044c\", \"\\u0431\\u043b\\u0438\\u043d\", \"\\u0431\\u043b\\u044f\\u0434\\u044c\", \"\\u0431\\u043e\\u043b\\u0435\\u0442\\u044c\", \"\\u0431\\u043e\\u043b\\u044c\", \"\\u0431\\u043e\\u043b\\u044c\\u043d\\u043e\", \"\\u0431\\u043e\\u043b\\u044c\\u0448\\u043e\\u0439\", \"\\u0431\\u043e\\u044f\\u0442\\u044c\\u0441\\u044f\", \"\\u0432\\u0435\\u0447\\u0435\\u0440\", \"\\u0432\\u0437\\u044f\\u0442\\u044c\", \"\\u0432\\u0438\\u0434\\u0435\\u0442\\u044c\", \"\\u0432\\u043e\\u0434\\u0430\", \"\\u0432\\u043e\\u043e\\u0431\\u0449\\u0435\", \"\\u0432\\u0440\\u043e\\u0434\\u0435\", \"\\u0432\\u0441\\u0442\\u0430\\u0432\\u0430\\u0442\\u044c\", \"\\u0432\\u0447\\u0435\\u0440\\u0430\", \"\\u0432\\u044b\\u0445\\u043e\\u0434\\u043d\\u043e\\u0439\", \"\\u0433\\u043e\\u0432\\u043e\\u0440\\u0438\\u0442\\u044c\", \"\\u0433\\u043e\\u043b\\u043e\\u0432\\u0430\", \"\\u0433\\u043e\\u0440\\u043e\\u0434\", \"\\u0433\\u0440\\u0443\\u0441\\u0442\\u043d\\u043e\", \"\\u0433\\u0443\\u043b\\u044f\\u0442\\u044c\", \"\\u0434\\u0430\\u0442\\u044c\", \"\\u0434\\u0435\\u043b\\u0430\\u0442\\u044c\", \"\\u0434\\u0435\\u043b\\u043e\", \"\\u0434\\u043e\\u043b\\u0436\\u043d\\u044b\\u0439\", \"\\u0434\\u043e\\u043c\\u043e\\u0439\", \"\\u0434\\u0440\\u0443\\u0433\", \"\\u0434\\u0443\\u043c\\u0430\\u0442\\u044c\", \"\\u0436\\u0430\\u043b\\u043a\\u043e\", \"\\u0436\\u0430\\u043b\\u044c\", \"\\u0436\\u0434\\u0430\\u0442\\u044c\", \"\\u0436\\u0438\\u0442\\u044c\", \"\\u0437\\u0430\\u0431\\u043e\\u043b\\u0435\\u0442\\u044c\", \"\\u0437\\u0430\\u0431\\u044b\\u0442\\u044c\", \"\\u0437\\u0430\\u0432\\u0442\\u0440\\u0430\", \"\\u0437\\u0430\\u043a\\u043e\\u043d\\u0447\\u0438\\u0442\\u044c\\u0441\\u044f\", \"\\u0437\\u043d\\u0430\\u0442\\u044c\", \"\\u0438\\u0434\\u0442\\u0438\", \"\\u043a\\u0430\\u0437\\u0430\\u0442\\u044c\\u0441\\u044f\", \"\\u043a\\u0430\\u0442\\u043e\\u043a\", \"\\u043a\\u043e\\u043d\\u0435\\u0446\", \"\\u043a\\u0443\\u043f\\u0438\\u0442\\u044c\", \"\\u043b\\u0435\\u043d\\u0442\\u0430\", \"\\u043b\\u044e\\u0431\\u0438\\u043c\\u044b\\u0439\", \"\\u043b\\u044e\\u0431\\u0438\\u0442\\u044c\", \"\\u043c\\u0430\\u043b\\u0435\\u043d\\u044c\\u043a\\u0438\\u0439\", \"\\u043c\\u0430\\u043c\\u0430\", \"\\u043c\\u0435\\u0441\\u044f\\u0446\", \"\\u043c\\u0438\\u043d\\u0443\\u0442\\u0430\", \"\\u043c\\u043e\\u043c\\u0435\\u043d\\u0442\", \"\\u043c\\u043e\\u0440\\u043e\\u0437\", \"\\u043c\\u0443\\u0437\\u044b\\u043a\\u0430\", \"\\u043d\\u0430\\u0439\\u0442\\u0438\", \"\\u043d\\u0430\\u043f\\u0438\\u0441\\u0430\\u0442\\u044c\", \"\\u043d\\u0430\\u0441\\u0442\\u0440\\u043e\\u0435\\u043d\\u0438\\u0435\", \"\\u043d\\u0430\\u0447\\u0430\\u043b\\u043e\", \"\\u043d\\u0430\\u0447\\u0438\\u043d\\u0430\\u0442\\u044c\", \"\\u043d\\u0435\\u0434\\u0435\\u043b\\u044f\", \"\\u043d\\u0435\\u043d\\u0430\\u0432\\u0438\\u0434\\u0435\\u0442\\u044c\", \"\\u043d\\u0438\\u0431\\u044b\\u0442\\u044c\", \"\\u043d\\u0438\\u043a\\u0442\\u043e\", \"\\u043d\\u043e\\u0432\\u044b\\u0439\", \"\\u043d\\u043e\\u0440\\u043c\\u0430\\u043b\\u044c\\u043d\\u043e\", \"\\u043d\\u043e\\u0447\\u044c\", \"\\u043d\\u0440\\u0430\\u0432\\u0438\\u0442\\u044c\\u0441\\u044f\", \"\\u043e\\u0431\\u0438\\u0434\\u043d\\u043e\", \"\\u043e\\u0441\\u0442\\u0430\\u0442\\u044c\\u0441\\u044f\", \"\\u043f\\u0430\\u043f\\u0430\", \"\\u043f\\u0430\\u0440\\u0430\", \"\\u043f\\u0430\\u0440\\u0435\\u043d\\u044c\", \"\\u043f\\u0435\\u0441\\u043d\\u044f\", \"\\u043f\\u0435\\u0447\\u0430\\u043b\\u044c\\u043d\\u043e\", \"\\u043f\\u0438\\u0437\\u0434\\u0435\\u0446\", \"\\u043f\\u0438\\u0441\\u0430\\u0442\\u044c\", \"\\u043f\\u043b\\u0430\\u043a\\u0430\\u0442\\u044c\", \"\\u043f\\u043b\\u043e\\u0445\\u043e\", \"\\u043f\\u043b\\u043e\\u0445\\u043e\\u0439\", \"\\u043f\\u043e\\u0433\\u043e\\u0434\\u0430\", \"\\u043f\\u043e\\u0435\\u0445\\u0430\\u0442\\u044c\", \"\\u043f\\u043e\\u0439\\u0442\\u0438\", \"\\u043f\\u043e\\u043b\\u0443\\u0447\\u0438\\u0442\\u044c\\u0441\\u044f\", \"\\u043f\\u043e\\u043c\\u043d\\u0438\\u0442\\u044c\", \"\\u043f\\u043e\\u043d\\u0435\\u0434\\u0435\\u043b\\u044c\\u043d\\u0438\\u043a\", \"\\u043f\\u043e\\u043d\\u0438\\u043c\\u0430\\u0442\\u044c\", \"\\u043f\\u043e\\u043d\\u044f\\u0442\\u044c\", \"\\u043f\\u043e\\u0441\\u043b\\u0435\\u0434\\u043d\\u0438\\u0439\", \"\\u043f\\u043e\\u0441\\u043c\\u043e\\u0442\\u0440\\u0435\\u0442\\u044c\", \"\\u043f\\u0440\\u0430\\u0432\\u0434\\u0430\", \"\\u043f\\u0440\\u0438\\u0439\\u0442\\u0438\", \"\\u043f\\u0440\\u0438\\u0439\\u0442\\u0438\\u0441\\u044c\", \"\\u043f\\u0440\\u043e\\u0431\\u043b\\u0435\\u043c\\u0430\", \"\\u043f\\u0440\\u043e\\u0439\\u0442\\u0438\", \"\\u043f\\u0440\\u043e\\u0441\\u043d\\u0443\\u0442\\u044c\\u0441\\u044f\", \"\\u043f\\u0440\\u043e\\u0441\\u0442\\u0438\\u0442\\u044c\", \"\\u043f\\u044b\\u0442\\u0430\\u0442\\u044c\\u0441\\u044f\", \"\\u0440\\u0430\\u0431\\u043e\\u0442\\u0430\", \"\\u0440\\u0430\\u0431\\u043e\\u0442\\u0430\\u0442\\u044c\", \"\\u0440\\u0430\\u0432\\u043d\\u043e\", \"\\u0440\\u0430\\u043d\\u043d\\u0438\\u0439\", \"\\u0440\\u043e\\u0434\\u0438\\u0442\\u0435\\u043b\\u044c\", \"\\u0440\\u0443\\u043a\\u0430\", \"\\u0441\\u0430\\u043c\\u044b\\u0439\", \"\\u0441\\u0432\\u043e\\u0439\", \"\\u0441\\u0434\\u0435\\u043b\\u0430\\u0442\\u044c\", \"\\u0441\\u0435\\u0440\\u0438\\u0430\\u043b\", \"\\u0441\\u0438\\u0434\\u0435\\u0442\\u044c\", \"\\u0441\\u0438\\u043b\\u044c\\u043d\\u043e\", \"\\u0441\\u043a\\u043e\\u0440\\u043e\", \"\\u0441\\u043a\\u0443\\u0447\\u0430\\u0442\\u044c\", \"\\u0441\\u043a\\u0443\\u0447\\u043d\\u043e\", \"\\u0441\\u043b\\u0435\\u0437\\u0430\", \"\\u0441\\u043b\\u043e\\u0432\\u043e\", \"\\u0441\\u043c\\u043e\\u0442\\u0440\\u0435\\u0442\\u044c\", \"\\u0441\\u043c\\u043e\\u0447\\u044c\", \"\\u0441\\u043d\\u0435\\u0433\", \"\\u0441\\u043f\\u0430\\u0442\\u044c\", \"\\u0441\\u0442\\u0430\\u0442\\u044c\", \"\\u0441\\u0442\\u043e\\u043b\\u044c\\u043a\\u043e\", \"\\u0441\\u0443\\u043a\\u0430\", \"\\u0442\\u0432\\u0438\\u0442\", \"\\u0442\\u0432\\u0438\\u0442\\u0442\\u0435\\u0440\", \"\\u0442\\u0435\\u043b\\u0435\\u0444\\u043e\\u043d\", \"\\u0442\\u0435\\u043c\\u043f\\u0435\\u0440\\u0430\\u0442\\u0443\\u0440\\u0430\", \"\\u0443\\u0431\\u0438\\u0442\\u044c\", \"\\u0443\\u0435\\u0445\\u0430\\u0442\\u044c\", \"\\u0443\\u0436\\u0430\\u0441\", \"\\u0443\\u0436\\u0430\\u0441\\u043d\\u043e\", \"\\u0443\\u0436\\u0430\\u0441\\u043d\\u044b\\u0439\", \"\\u0443\\u0439\\u0442\\u0438\", \"\\u0443\\u043b\\u0438\\u0446\\u0430\", \"\\u0443\\u0440\\u043e\\u043a\", \"\\u0443\\u0441\\u043d\\u0443\\u0442\\u044c\", \"\\u0443\\u0441\\u0442\\u0430\\u0442\\u044c\", \"\\u0443\\u0442\\u0440\\u043e\", \"\\u0443\\u0447\\u0438\\u0442\\u044c\", \"\\u0443\\u0447\\u0451\\u0431\\u0430\", \"\\u0444\\u0438\\u043b\\u044c\\u043c\", \"\\u0445\\u0432\\u0430\\u0442\\u0430\\u0442\\u044c\", \"\\u0445\\u043e\\u0434\\u0438\\u0442\\u044c\", \"\\u0445\\u043e\\u043b\\u043e\\u0434\\u043d\\u043e\", \"\\u0445\\u043e\\u0440\\u043e\\u0448\\u0438\\u0439\", \"\\u0445\\u043e\\u0442\\u0435\\u0442\\u044c\\u0441\\u044f\", \"\\u0446\\u0435\\u043b\\u044b\\u0439\", \"\\u0447\\u0438\\u0442\\u0430\\u0442\\u044c\", \"\\u0447\\u0443\\u0432\\u0441\\u0442\\u0432\\u043e\", \"\\u0447\\u0443\\u0432\\u0441\\u0442\\u0432\\u043e\\u0432\\u0430\\u0442\\u044c\", \"\\u0448\\u043a\\u043e\\u043b\\u0430\", \"\\u044d\\u043a\\u0437\\u0430\\u043c\\u0435\\u043d\"]}, \"R\": 30, \"lambda.step\": 0.01, \"plot.opts\": {\"xlab\": \"PC1\", \"ylab\": \"PC2\"}, \"topic.order\": [4, 2, 1, 5, 3]};\n",
              "\n",
              "function LDAvis_load_lib(url, callback){\n",
              "  var s = document.createElement('script');\n",
              "  s.src = url;\n",
              "  s.async = true;\n",
              "  s.onreadystatechange = s.onload = callback;\n",
              "  s.onerror = function(){console.warn(\"failed to load library \" + url);};\n",
              "  document.getElementsByTagName(\"head\")[0].appendChild(s);\n",
              "}\n",
              "\n",
              "if(typeof(LDAvis) !== \"undefined\"){\n",
              "   // already loaded: just create the visualization\n",
              "   !function(LDAvis){\n",
              "       new LDAvis(\"#\" + \"ldavis_el631400914285513766863044669\", ldavis_el631400914285513766863044669_data);\n",
              "   }(LDAvis);\n",
              "}else if(typeof define === \"function\" && define.amd){\n",
              "   // require.js is available: use it to load d3/LDAvis\n",
              "   require.config({paths: {d3: \"https://d3js.org/d3.v5\"}});\n",
              "   require([\"d3\"], function(d3){\n",
              "      window.d3 = d3;\n",
              "      LDAvis_load_lib(\"https://cdn.jsdelivr.net/gh/bmabey/pyLDAvis@3.3.1/pyLDAvis/js/ldavis.v3.0.0.js\", function(){\n",
              "        new LDAvis(\"#\" + \"ldavis_el631400914285513766863044669\", ldavis_el631400914285513766863044669_data);\n",
              "      });\n",
              "    });\n",
              "}else{\n",
              "    // require.js not available: dynamically load d3 & LDAvis\n",
              "    LDAvis_load_lib(\"https://d3js.org/d3.v5.js\", function(){\n",
              "         LDAvis_load_lib(\"https://cdn.jsdelivr.net/gh/bmabey/pyLDAvis@3.3.1/pyLDAvis/js/ldavis.v3.0.0.js\", function(){\n",
              "                 new LDAvis(\"#\" + \"ldavis_el631400914285513766863044669\", ldavis_el631400914285513766863044669_data);\n",
              "            })\n",
              "         });\n",
              "}\n",
              "</script>"
            ]
          },
          "metadata": {},
          "execution_count": 31
        }
      ]
    },
    {
      "cell_type": "markdown",
      "source": [
        "Тема 1: слова - делать\n",
        "писать\n",
        "болеть\n",
        "пойти\n",
        "хотеться\n",
        "мама\n",
        "сделать"
      ],
      "metadata": {
        "id": "pYZZ946sUXO9"
      }
    },
    {
      "cell_type": "markdown",
      "source": [
        "Тема 2: слова - http\n",
        "знать\n",
        "любить\n",
        "смотреть\n",
        "скучать\n",
        "сидеть`\n",
        "\n"
      ],
      "metadata": {
        "id": "vB7FOP5SUfr9"
      }
    },
    {
      "cell_type": "markdown",
      "source": [
        "Тема 3: слова - завтра\n",
        "блин\n",
        "вообще\n",
        "идти\n",
        "большой\n",
        "школа"
      ],
      "metadata": {
        "id": "qlMSmYluUwZH"
      }
    },
    {
      "cell_type": "markdown",
      "source": [
        "Тема 4: слова - свой\n",
        "самый\n",
        "говорить\n",
        "никто\n",
        "жалко\n",
        "учить"
      ],
      "metadata": {
        "id": "ACk26BN8VGdk"
      }
    },
    {
      "cell_type": "markdown",
      "source": [
        "Тема 5: слова - спать\n",
        "плохо\n",
        "утро\n",
        "ночь\n",
        "понимать\n",
        "неделя"
      ],
      "metadata": {
        "id": "A6FRDnMJVPam"
      }
    }
  ]
}