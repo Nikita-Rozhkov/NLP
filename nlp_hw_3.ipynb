{
  "nbformat": 4,
  "nbformat_minor": 0,
  "metadata": {
    "colab": {
      "name": "nlp_hw_3.ipynb",
      "provenance": [],
      "collapsed_sections": []
    },
    "kernelspec": {
      "name": "python3",
      "display_name": "Python 3"
    },
    "language_info": {
      "name": "python"
    }
  },
  "cells": [
    {
      "cell_type": "markdown",
      "source": [
        "# Урок 3.  Embedding word2vec fasttext"
      ],
      "metadata": {
        "id": "RXX4NhbniEvg"
      }
    },
    {
      "cell_type": "markdown",
      "source": [
        "## Домашнее задание"
      ],
      "metadata": {
        "id": "mHMXgZg_iOqM"
      }
    },
    {
      "cell_type": "markdown",
      "source": [
        "1. на основе word2vec/fasttext реализовать метод поиска ближайших статей (на вход метода должен приходить запрос (какой-то вопрос) и количество вариантов вывода к примеру 5-ть, ваш метод должен возвращать 5-ть ближайших статей к этому запросу)\n",
        "2. Проверить насколько хорошо работают подходы"
      ],
      "metadata": {
        "id": "An3XkqmOigGf"
      }
    },
    {
      "cell_type": "markdown",
      "source": [
        "### Подключение библиотек"
      ],
      "metadata": {
        "id": "DVKzsy3fi-KD"
      }
    },
    {
      "cell_type": "code",
      "source": [
        "!pip install pymorphy2"
      ],
      "metadata": {
        "colab": {
          "base_uri": "https://localhost:8080/"
        },
        "id": "7m6AgCvYjTc0",
        "outputId": "c2315b07-b5de-48cf-84eb-badb86452063"
      },
      "execution_count": 2,
      "outputs": [
        {
          "output_type": "stream",
          "name": "stdout",
          "text": [
            "Looking in indexes: https://pypi.org/simple, https://us-python.pkg.dev/colab-wheels/public/simple/\n",
            "Requirement already satisfied: pymorphy2 in /usr/local/lib/python3.7/dist-packages (0.9.1)\n",
            "Requirement already satisfied: pymorphy2-dicts-ru<3.0,>=2.4 in /usr/local/lib/python3.7/dist-packages (from pymorphy2) (2.4.417127.4579844)\n",
            "Requirement already satisfied: docopt>=0.6 in /usr/local/lib/python3.7/dist-packages (from pymorphy2) (0.6.2)\n",
            "Requirement already satisfied: dawg-python>=0.7.1 in /usr/local/lib/python3.7/dist-packages (from pymorphy2) (0.7.2)\n"
          ]
        }
      ]
    },
    {
      "cell_type": "code",
      "source": [
        "!pip install stop_words"
      ],
      "metadata": {
        "colab": {
          "base_uri": "https://localhost:8080/"
        },
        "id": "xb3Qk1rbjct_",
        "outputId": "a938502a-a24a-45c7-cb60-1064ceb47c96"
      },
      "execution_count": 3,
      "outputs": [
        {
          "output_type": "stream",
          "name": "stdout",
          "text": [
            "Looking in indexes: https://pypi.org/simple, https://us-python.pkg.dev/colab-wheels/public/simple/\n",
            "Requirement already satisfied: stop_words in /usr/local/lib/python3.7/dist-packages (2018.7.23)\n"
          ]
        }
      ]
    },
    {
      "cell_type": "code",
      "source": [
        "!pip install annoy"
      ],
      "metadata": {
        "colab": {
          "base_uri": "https://localhost:8080/"
        },
        "id": "3LfHLZyzjmRs",
        "outputId": "81b283d4-9098-4920-ae53-1c5638d7c65e"
      },
      "execution_count": 4,
      "outputs": [
        {
          "output_type": "stream",
          "name": "stdout",
          "text": [
            "Looking in indexes: https://pypi.org/simple, https://us-python.pkg.dev/colab-wheels/public/simple/\n",
            "Requirement already satisfied: annoy in /usr/local/lib/python3.7/dist-packages (1.17.0)\n"
          ]
        }
      ]
    },
    {
      "cell_type": "code",
      "source": [
        "import pandas as pd\n",
        "import numpy as np\n",
        "import string\n",
        "from pymorphy2 import MorphAnalyzer\n",
        "from stop_words import get_stop_words\n",
        "import annoy\n",
        "from gensim.models import Word2Vec, FastText"
      ],
      "metadata": {
        "id": "_MDXLO78jJM9"
      },
      "execution_count": 5,
      "outputs": []
    },
    {
      "cell_type": "markdown",
      "source": [
        "### Загрузка и подготовка данных"
      ],
      "metadata": {
        "id": "WFAs1mOFj8aG"
      }
    },
    {
      "cell_type": "code",
      "source": [
        "df = pd.read_csv('/content/drive/MyDrive/gb_NLP/lesson-3/gazeta.csv', usecols=['text', 'title'])\n",
        "df.head()"
      ],
      "metadata": {
        "colab": {
          "base_uri": "https://localhost:8080/",
          "height": 206
        },
        "id": "UxoCvsarkKvx",
        "outputId": "782422ae-f6b8-4542-cb36-558b04b7a034"
      },
      "execution_count": 6,
      "outputs": [
        {
          "output_type": "execute_result",
          "data": {
            "text/plain": [
              "                                               title  \\\n",
              "0  Госдума сокращает срок действия ставки экспорт...   \n",
              "1   Японские физики повторили синтез 113-го элемента   \n",
              "2        Times: Россия строит новую авиабазу в Сирии   \n",
              "3  Власти Египта гарантируют безопасность российс...   \n",
              "4  Гордума Новочеркасска приняла отставку мэра го...   \n",
              "\n",
              "                                                text  \n",
              "0  Госдума приняла сегодня в первом чтении и сраз...  \n",
              "1  Японские ученые из физического центра RIKEN за...  \n",
              "2  Россия готовится расширить свою военную операц...  \n",
              "3  Египет ждет российских туристов и гарантирует ...  \n",
              "4  В Ростовской области депутаты гордумы Новочерк...  "
            ],
            "text/html": [
              "\n",
              "  <div id=\"df-2840759d-d7b2-466a-b822-44cb895373ce\">\n",
              "    <div class=\"colab-df-container\">\n",
              "      <div>\n",
              "<style scoped>\n",
              "    .dataframe tbody tr th:only-of-type {\n",
              "        vertical-align: middle;\n",
              "    }\n",
              "\n",
              "    .dataframe tbody tr th {\n",
              "        vertical-align: top;\n",
              "    }\n",
              "\n",
              "    .dataframe thead th {\n",
              "        text-align: right;\n",
              "    }\n",
              "</style>\n",
              "<table border=\"1\" class=\"dataframe\">\n",
              "  <thead>\n",
              "    <tr style=\"text-align: right;\">\n",
              "      <th></th>\n",
              "      <th>title</th>\n",
              "      <th>text</th>\n",
              "    </tr>\n",
              "  </thead>\n",
              "  <tbody>\n",
              "    <tr>\n",
              "      <th>0</th>\n",
              "      <td>Госдума сокращает срок действия ставки экспорт...</td>\n",
              "      <td>Госдума приняла сегодня в первом чтении и сраз...</td>\n",
              "    </tr>\n",
              "    <tr>\n",
              "      <th>1</th>\n",
              "      <td>Японские физики повторили синтез 113-го элемента</td>\n",
              "      <td>Японские ученые из физического центра RIKEN за...</td>\n",
              "    </tr>\n",
              "    <tr>\n",
              "      <th>2</th>\n",
              "      <td>Times: Россия строит новую авиабазу в Сирии</td>\n",
              "      <td>Россия готовится расширить свою военную операц...</td>\n",
              "    </tr>\n",
              "    <tr>\n",
              "      <th>3</th>\n",
              "      <td>Власти Египта гарантируют безопасность российс...</td>\n",
              "      <td>Египет ждет российских туристов и гарантирует ...</td>\n",
              "    </tr>\n",
              "    <tr>\n",
              "      <th>4</th>\n",
              "      <td>Гордума Новочеркасска приняла отставку мэра го...</td>\n",
              "      <td>В Ростовской области депутаты гордумы Новочерк...</td>\n",
              "    </tr>\n",
              "  </tbody>\n",
              "</table>\n",
              "</div>\n",
              "      <button class=\"colab-df-convert\" onclick=\"convertToInteractive('df-2840759d-d7b2-466a-b822-44cb895373ce')\"\n",
              "              title=\"Convert this dataframe to an interactive table.\"\n",
              "              style=\"display:none;\">\n",
              "        \n",
              "  <svg xmlns=\"http://www.w3.org/2000/svg\" height=\"24px\"viewBox=\"0 0 24 24\"\n",
              "       width=\"24px\">\n",
              "    <path d=\"M0 0h24v24H0V0z\" fill=\"none\"/>\n",
              "    <path d=\"M18.56 5.44l.94 2.06.94-2.06 2.06-.94-2.06-.94-.94-2.06-.94 2.06-2.06.94zm-11 1L8.5 8.5l.94-2.06 2.06-.94-2.06-.94L8.5 2.5l-.94 2.06-2.06.94zm10 10l.94 2.06.94-2.06 2.06-.94-2.06-.94-.94-2.06-.94 2.06-2.06.94z\"/><path d=\"M17.41 7.96l-1.37-1.37c-.4-.4-.92-.59-1.43-.59-.52 0-1.04.2-1.43.59L10.3 9.45l-7.72 7.72c-.78.78-.78 2.05 0 2.83L4 21.41c.39.39.9.59 1.41.59.51 0 1.02-.2 1.41-.59l7.78-7.78 2.81-2.81c.8-.78.8-2.07 0-2.86zM5.41 20L4 18.59l7.72-7.72 1.47 1.35L5.41 20z\"/>\n",
              "  </svg>\n",
              "      </button>\n",
              "      \n",
              "  <style>\n",
              "    .colab-df-container {\n",
              "      display:flex;\n",
              "      flex-wrap:wrap;\n",
              "      gap: 12px;\n",
              "    }\n",
              "\n",
              "    .colab-df-convert {\n",
              "      background-color: #E8F0FE;\n",
              "      border: none;\n",
              "      border-radius: 50%;\n",
              "      cursor: pointer;\n",
              "      display: none;\n",
              "      fill: #1967D2;\n",
              "      height: 32px;\n",
              "      padding: 0 0 0 0;\n",
              "      width: 32px;\n",
              "    }\n",
              "\n",
              "    .colab-df-convert:hover {\n",
              "      background-color: #E2EBFA;\n",
              "      box-shadow: 0px 1px 2px rgba(60, 64, 67, 0.3), 0px 1px 3px 1px rgba(60, 64, 67, 0.15);\n",
              "      fill: #174EA6;\n",
              "    }\n",
              "\n",
              "    [theme=dark] .colab-df-convert {\n",
              "      background-color: #3B4455;\n",
              "      fill: #D2E3FC;\n",
              "    }\n",
              "\n",
              "    [theme=dark] .colab-df-convert:hover {\n",
              "      background-color: #434B5C;\n",
              "      box-shadow: 0px 1px 3px 1px rgba(0, 0, 0, 0.15);\n",
              "      filter: drop-shadow(0px 1px 2px rgba(0, 0, 0, 0.3));\n",
              "      fill: #FFFFFF;\n",
              "    }\n",
              "  </style>\n",
              "\n",
              "      <script>\n",
              "        const buttonEl =\n",
              "          document.querySelector('#df-2840759d-d7b2-466a-b822-44cb895373ce button.colab-df-convert');\n",
              "        buttonEl.style.display =\n",
              "          google.colab.kernel.accessAllowed ? 'block' : 'none';\n",
              "\n",
              "        async function convertToInteractive(key) {\n",
              "          const element = document.querySelector('#df-2840759d-d7b2-466a-b822-44cb895373ce');\n",
              "          const dataTable =\n",
              "            await google.colab.kernel.invokeFunction('convertToInteractive',\n",
              "                                                     [key], {});\n",
              "          if (!dataTable) return;\n",
              "\n",
              "          const docLinkHtml = 'Like what you see? Visit the ' +\n",
              "            '<a target=\"_blank\" href=https://colab.research.google.com/notebooks/data_table.ipynb>data table notebook</a>'\n",
              "            + ' to learn more about interactive tables.';\n",
              "          element.innerHTML = '';\n",
              "          dataTable['output_type'] = 'display_data';\n",
              "          await google.colab.output.renderOutput(dataTable, element);\n",
              "          const docLink = document.createElement('div');\n",
              "          docLink.innerHTML = docLinkHtml;\n",
              "          element.appendChild(docLink);\n",
              "        }\n",
              "      </script>\n",
              "    </div>\n",
              "  </div>\n",
              "  "
            ]
          },
          "metadata": {},
          "execution_count": 6
        }
      ]
    },
    {
      "cell_type": "markdown",
      "source": [
        "Препроцессинг текста"
      ],
      "metadata": {
        "id": "LrybUjPomDS9"
      }
    },
    {
      "cell_type": "code",
      "source": [
        "def preprocess_txt(line):\n",
        "    spls = \"\".join(i for i in line.strip() if i not in exclude).split()\n",
        "    spls = [morpher.parse(i.lower())[0].normal_form for i in spls]\n",
        "    spls = [i for i in spls if i not in sw and i != \"\"]\n",
        "    return spls"
      ],
      "metadata": {
        "id": "uppufmvNl7vq"
      },
      "execution_count": 7,
      "outputs": []
    },
    {
      "cell_type": "code",
      "source": [
        "assert True\n",
        "\n",
        "sentences = []\n",
        "\n",
        "morpher = MorphAnalyzer()\n",
        "sw = set(get_stop_words(\"ru\"))\n",
        "exclude = set(string.punctuation)\n",
        "\n",
        "for line in df['text']:\n",
        "    spls = preprocess_txt(line)\n",
        "    sentences.append(spls)"
      ],
      "metadata": {
        "id": "LFTsqVAxmR-W"
      },
      "execution_count": 13,
      "outputs": []
    },
    {
      "cell_type": "code",
      "source": [
        "sentences = [i for i in sentences if len(i) > 2]"
      ],
      "metadata": {
        "id": "21EXgLPg7TcW"
      },
      "execution_count": 14,
      "outputs": []
    },
    {
      "cell_type": "markdown",
      "source": [
        "### Создание модели"
      ],
      "metadata": {
        "id": "NL-Dp0Yl7-_6"
      }
    },
    {
      "cell_type": "markdown",
      "source": [
        "Создание модели Word2Vec"
      ],
      "metadata": {
        "id": "sQBuX1XDMylJ"
      }
    },
    {
      "cell_type": "code",
      "source": [
        "modelW2V = Word2Vec(sentences=sentences, size=300, window=5, min_count=3)"
      ],
      "metadata": {
        "id": "QBwXafV9M0sz"
      },
      "execution_count": 15,
      "outputs": []
    },
    {
      "cell_type": "markdown",
      "source": [
        "Создание модели FastText\n"
      ],
      "metadata": {
        "id": "lbSpi2aSNUdG"
      }
    },
    {
      "cell_type": "code",
      "source": [
        "modelFT = FastText(sentences=sentences, size=300, min_count=3, window=5, workers=8)"
      ],
      "metadata": {
        "id": "O1TfKxN1NZ6b"
      },
      "execution_count": 16,
      "outputs": []
    },
    {
      "cell_type": "code",
      "source": [
        "w2v_index = annoy.AnnoyIndex(300 ,'angular')\n",
        "ft_index = annoy.AnnoyIndex(300 ,'angular')\n",
        "\n",
        "counter = 0\n",
        "index_map = {}\n",
        "\n",
        "for line in df['text']:\n",
        "    n_w2v = 0\n",
        "    n_ft = 0\n",
        "    index_map[counter] = line\n",
        "    text = preprocess_txt(line)\n",
        "    \n",
        "    vector_w2v = np.zeros(300)\n",
        "    vector_ft = np.zeros(300)\n",
        "    for word in text:\n",
        "        if word in modelW2V.wv:\n",
        "            vector_w2v += modelW2V.wv[word]\n",
        "            n_w2v += 1\n",
        "        if word in modelFT.wv:\n",
        "            vector_ft += modelFT.wv[word]\n",
        "            n_ft += 1\n",
        "    if n_w2v > 0:\n",
        "        vector_w2v = vector_w2v / n_w2v\n",
        "    if n_ft > 0:\n",
        "        vector_ft = vector_ft / n_ft\n",
        "    w2v_index.add_item(counter, vector_w2v)\n",
        "    ft_index.add_item(counter, vector_ft)\n",
        "    counter += 1\n",
        "\n",
        "    if counter > 100000:\n",
        "        break\n",
        "\n",
        "w2v_index.build(10)\n",
        "ft_index.build(10)"
      ],
      "metadata": {
        "colab": {
          "base_uri": "https://localhost:8080/"
        },
        "id": "nvVa8pZiPLt1",
        "outputId": "b3ffc624-169d-44fb-fe51-80d0a86b3805"
      },
      "execution_count": 19,
      "outputs": [
        {
          "output_type": "execute_result",
          "data": {
            "text/plain": [
              "True"
            ]
          },
          "metadata": {},
          "execution_count": 19
        }
      ]
    },
    {
      "cell_type": "code",
      "source": [
        "def get_response(question, index, model, index_map):\n",
        "    question = preprocess_txt(question)\n",
        "    vector = np.zeros(300)\n",
        "    norm = 0\n",
        "    for word in question:\n",
        "        if word in model.wv:\n",
        "            vector += model.wv[word]\n",
        "            norm += 1\n",
        "    if norm > 0:\n",
        "        vector = vector / norm\n",
        "    answers = index.get_nns_by_vector(vector, 5, )\n",
        "    return [index_map[i] for i in answers]"
      ],
      "metadata": {
        "id": "kWSBdoSocW_F"
      },
      "execution_count": 20,
      "outputs": []
    },
    {
      "cell_type": "markdown",
      "source": [
        "### Проверка работы модели"
      ],
      "metadata": {
        "id": "eP_z7jotcZzV"
      }
    },
    {
      "cell_type": "code",
      "source": [
        "TEXT = \"чемпионат мира по футболу\""
      ],
      "metadata": {
        "id": "oKmwQtq7cre7"
      },
      "execution_count": 32,
      "outputs": []
    },
    {
      "cell_type": "code",
      "source": [
        "get_response(TEXT, w2v_index, modelW2V, index_map)"
      ],
      "metadata": {
        "colab": {
          "base_uri": "https://localhost:8080/"
        },
        "id": "_seQvdwUdqDe",
        "outputId": "9e3a69cb-51e3-4b24-d481-7293c49b6af7"
      },
      "execution_count": 33,
      "outputs": [
        {
          "output_type": "execute_result",
          "data": {
            "text/plain": [
              "['Главный тренер сборной России по тяжелой атлетике Александр Венков отметил хороший результат наших спортсменов на Универсиаде-2013, а также заявил, что соревнования в Казани были этапом подготовки к чемпионату мира.n«Я очень доволен результатом. Универсиаду мы рассматриваем как один из этапов подготовки к чемпионату мира, — сказал тренер. — Для тяжелоатлетов приоритетом будет чемпионат мира. Результаты нормальные, ребята отлично поработали. Впереди у нас достаточный период времени, чтобы восстановиться и хорошо подготовиться к чемпионату мира. У нас три целенаправленных сбора к чемпионату мира. Надеюсь, что ребята подойдут в хорошем состоянии».nСборная России завоевала в соревнованиях по тяжелой атлетике шесть золотых медалей.',\n",
              " 'Президент Федерации фигурного катания на коньках России Александр Горшков рассказал о критериях отбора участников на чемпионат мира.nn«Участник чемпионата мира будет определен по итогам чемпионата Европы и финала Кубка России, который будет проходить в середине февраля в Твери, — сказал Горшков. — По «миру» пока никаких решений не принималось. Оно будет приниматься с учетом не только результатов, но и качества катания фигуристов на чемпионате Европы и в Финале Кубка страны».',\n",
              " 'Российский фигурист Максим Траньков, который в паре с Татьяной Волосожарnпобедилnна чемпионате Европы в парном катании, поделился впечатлениями от выступления.nn«Бороться за первое место было сложно, — сказал Траньков. — В прошлом году немецкая пара пропустила чемпионат Европы, и мы выиграли в их отсутствие. В этот раз для нас победа на чемпионате Европы очень важна, потому что мы обыграли лучшую пару мира. Мы будем работать, откатаемся еще лучше на чемпионате мира, а там посмотрим, какого результата добьемся».',\n",
              " 'Президент Башкортостана Рустэм Хамитов во время встречи участников молодежного чемпионата мира по хоккею заявил о желании республики провести взрослый турнир.nn«Для нас большая честь принимать чемпионат, и мы надеемся вам понравилось в Уфе. Наши коллеги сделали все для организации чемпионата, — цитирует Хамитоваnофициальный сайтnФХР. — Башкортостан уже на протяжении 50 лет развивает хоккей. «Салават Юлаев» — двукратный чемпион России. Главное, что в регионе развивается детский и юношеский хоккей. Воспитанники уфимского хоккея выступали защищают цвета сборной России. Благодарим IIHF и ФХР за то, что столицей чемпионата мира среди молодёжных команд была выбрана Уфа. Мы будем мечтать о главном чемпионате мира и надеемся сбудется».',\n",
              " 'Министр физической культуры, спорта, туризма и работы с молодежью Московской области Олег Жолобов поделился ожиданиями от женского чемпионата мира по водному поло.n«Чемпионат мира, безусловно, отличается от Универсиады, — заявил Жолобов. — Два года назад на чемпионате мира в Китае мы были третьими, и уже не в первый раз. По финальной игре скажу, что легким чемпионат не будет. Но с другой стороны, каждый играет настолько, насколько позволяет команда соперников. Венгерки были явно слабее нас. Однозначно сейчас оценить наши шансы нельзя, потому что я не видел соперников».']"
            ]
          },
          "metadata": {},
          "execution_count": 33
        }
      ]
    },
    {
      "cell_type": "code",
      "source": [
        "get_response(TEXT, ft_index, modelFT, index_map)"
      ],
      "metadata": {
        "colab": {
          "base_uri": "https://localhost:8080/"
        },
        "id": "buCZQqxWeRjB",
        "outputId": "1bdb8f05-252f-4f4a-8917-bbb2398c040d"
      },
      "execution_count": 34,
      "outputs": [
        {
          "output_type": "execute_result",
          "data": {
            "text/plain": [
              "['В Гармиш-Партенкирхене (Германия) проходит 16-й этап Кубка мира по горнолыжному спорту среди мужчин. В гигантском слаломе победил француз Алексис Пинтуро. Второе время показал австриец Марсель Хиршер, третье — чемпион мира в этой дисциплине американец Тед Лигети. Россиянин Степан Зуев не пробился во вторую попытку с 38-м временем.',\n",
              " 'Россиянин Камиль Ибрагимов завоевал золотую медаль на чемпионате мира среди юниоров по фехтованию на сабле, который проходит в Порече (Хорватия).nВ финальном поединке Ибрагимов победил прошлогоднего обладателя юниорского Кубка мира венгра Андраша Сатмари — 15:14.nРоссиянка Лейла Пириева в финале первенства мира среди кадетов по фехтованию на рапире, который проходит также в Порече, уступила итальянке Камилле Манчини\\xa0- 12:15 и стала серебряным призером турнира.',\n",
              " \"В Валь д'Изере (Франция) проходит шестой этап Кубка мира по горнолыжному спорту среди женщин. В скоростном спуске победила швейцарка Лара Гут, вторая стала американка Леан Смит, третьей — еще одна швейцарка Нади Камер. Лидер Кубка мира в этой дисциплине американка Линдсей Вонн не финишировала.\",\n",
              " 'В мексиканском Агуаскальентесе завершился второй день третьего этапа Кубка мира по велоспорту на треке. Россиянин Артур Ершов из «Русвело» победил в омниуме, став вторым в общем зачете Кубка мира после швейцарца Луи Периццоло. В кейрине Денис Дмитриев был пятым, в индивидуальном спринте Анастасия Войнова — седьмая.',\n",
              " 'В Ленцерхайде (Швейцария) завершается финал Кубка мира по горнолыжному спорту. В мужском слаломе победил немец Феликс Нойройтер. В призовую тройку также вошли австриец Марсель Хиршер и хорват Ивица Костелич.nnХиршер выиграл общий зачет Кубка мира и малый Кубок мира в слаломе. Россиянин Александр Хорошилов в тотале стал 73-м, в слаломе — 26-м.']"
            ]
          },
          "metadata": {},
          "execution_count": 34
        }
      ]
    }
  ]
}